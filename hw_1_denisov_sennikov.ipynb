{
  "cells": [
    {
      "cell_type": "code",
      "execution_count": 1,
      "metadata": {
        "id": "t0DjnnlX-inM"
      },
      "outputs": [],
      "source": [
        "import pandas as pd\n",
        "import numpy as np\n",
        "import matplotlib.pyplot as plt\n",
        "import seaborn as sns\n",
        "import math\n",
        "from sklearn.preprocessing import StandardScaler\n",
        "from sklearn.decomposition import PCA"
      ]
    },
    {
      "cell_type": "code",
      "execution_count": 2,
      "metadata": {
        "id": "KVSYswZO-inO"
      },
      "outputs": [],
      "source": [
        "data = pd.read_excel('24MAG_HW_1_v4.xls') #  index_col = ['Ages', 'Count_dependent', 'Income', 'Time_period_reg', 'Estimation', 'Credit_size'])"
      ]
    },
    {
      "cell_type": "code",
      "execution_count": 3,
      "metadata": {
        "colab": {
          "base_uri": "https://localhost:8080/",
          "height": 206
        },
        "id": "Z11Xjm-r-inO",
        "outputId": "d76a78d0-9ec3-4ebe-d4b6-92aa1874b4fa"
      },
      "outputs": [
        {
          "output_type": "execute_result",
          "data": {
            "text/plain": [
              "   Ages  Count_dependent   Income  Time_period_reg  Estimation  Credit_size\n",
              "0  41.0              2.0  11900.0             11.0     12000.0     119000.0\n",
              "1  31.0              1.0      NaN              4.0     22000.0     221000.0\n",
              "2  28.0              1.0  30700.0              2.0     30000.0     300000.0\n",
              "3   NaN              2.0  12600.0             13.0     13000.0     128000.0\n",
              "4  25.0              1.0  31900.0              0.0     30000.0     309000.0"
            ],
            "text/html": [
              "\n",
              "  <div id=\"df-f6024833-1224-4032-9d9f-683c469407e1\" class=\"colab-df-container\">\n",
              "    <div>\n",
              "<style scoped>\n",
              "    .dataframe tbody tr th:only-of-type {\n",
              "        vertical-align: middle;\n",
              "    }\n",
              "\n",
              "    .dataframe tbody tr th {\n",
              "        vertical-align: top;\n",
              "    }\n",
              "\n",
              "    .dataframe thead th {\n",
              "        text-align: right;\n",
              "    }\n",
              "</style>\n",
              "<table border=\"1\" class=\"dataframe\">\n",
              "  <thead>\n",
              "    <tr style=\"text-align: right;\">\n",
              "      <th></th>\n",
              "      <th>Ages</th>\n",
              "      <th>Count_dependent</th>\n",
              "      <th>Income</th>\n",
              "      <th>Time_period_reg</th>\n",
              "      <th>Estimation</th>\n",
              "      <th>Credit_size</th>\n",
              "    </tr>\n",
              "  </thead>\n",
              "  <tbody>\n",
              "    <tr>\n",
              "      <th>0</th>\n",
              "      <td>41.0</td>\n",
              "      <td>2.0</td>\n",
              "      <td>11900.0</td>\n",
              "      <td>11.0</td>\n",
              "      <td>12000.0</td>\n",
              "      <td>119000.0</td>\n",
              "    </tr>\n",
              "    <tr>\n",
              "      <th>1</th>\n",
              "      <td>31.0</td>\n",
              "      <td>1.0</td>\n",
              "      <td>NaN</td>\n",
              "      <td>4.0</td>\n",
              "      <td>22000.0</td>\n",
              "      <td>221000.0</td>\n",
              "    </tr>\n",
              "    <tr>\n",
              "      <th>2</th>\n",
              "      <td>28.0</td>\n",
              "      <td>1.0</td>\n",
              "      <td>30700.0</td>\n",
              "      <td>2.0</td>\n",
              "      <td>30000.0</td>\n",
              "      <td>300000.0</td>\n",
              "    </tr>\n",
              "    <tr>\n",
              "      <th>3</th>\n",
              "      <td>NaN</td>\n",
              "      <td>2.0</td>\n",
              "      <td>12600.0</td>\n",
              "      <td>13.0</td>\n",
              "      <td>13000.0</td>\n",
              "      <td>128000.0</td>\n",
              "    </tr>\n",
              "    <tr>\n",
              "      <th>4</th>\n",
              "      <td>25.0</td>\n",
              "      <td>1.0</td>\n",
              "      <td>31900.0</td>\n",
              "      <td>0.0</td>\n",
              "      <td>30000.0</td>\n",
              "      <td>309000.0</td>\n",
              "    </tr>\n",
              "  </tbody>\n",
              "</table>\n",
              "</div>\n",
              "    <div class=\"colab-df-buttons\">\n",
              "\n",
              "  <div class=\"colab-df-container\">\n",
              "    <button class=\"colab-df-convert\" onclick=\"convertToInteractive('df-f6024833-1224-4032-9d9f-683c469407e1')\"\n",
              "            title=\"Convert this dataframe to an interactive table.\"\n",
              "            style=\"display:none;\">\n",
              "\n",
              "  <svg xmlns=\"http://www.w3.org/2000/svg\" height=\"24px\" viewBox=\"0 -960 960 960\">\n",
              "    <path d=\"M120-120v-720h720v720H120Zm60-500h600v-160H180v160Zm220 220h160v-160H400v160Zm0 220h160v-160H400v160ZM180-400h160v-160H180v160Zm440 0h160v-160H620v160ZM180-180h160v-160H180v160Zm440 0h160v-160H620v160Z\"/>\n",
              "  </svg>\n",
              "    </button>\n",
              "\n",
              "  <style>\n",
              "    .colab-df-container {\n",
              "      display:flex;\n",
              "      gap: 12px;\n",
              "    }\n",
              "\n",
              "    .colab-df-convert {\n",
              "      background-color: #E8F0FE;\n",
              "      border: none;\n",
              "      border-radius: 50%;\n",
              "      cursor: pointer;\n",
              "      display: none;\n",
              "      fill: #1967D2;\n",
              "      height: 32px;\n",
              "      padding: 0 0 0 0;\n",
              "      width: 32px;\n",
              "    }\n",
              "\n",
              "    .colab-df-convert:hover {\n",
              "      background-color: #E2EBFA;\n",
              "      box-shadow: 0px 1px 2px rgba(60, 64, 67, 0.3), 0px 1px 3px 1px rgba(60, 64, 67, 0.15);\n",
              "      fill: #174EA6;\n",
              "    }\n",
              "\n",
              "    .colab-df-buttons div {\n",
              "      margin-bottom: 4px;\n",
              "    }\n",
              "\n",
              "    [theme=dark] .colab-df-convert {\n",
              "      background-color: #3B4455;\n",
              "      fill: #D2E3FC;\n",
              "    }\n",
              "\n",
              "    [theme=dark] .colab-df-convert:hover {\n",
              "      background-color: #434B5C;\n",
              "      box-shadow: 0px 1px 3px 1px rgba(0, 0, 0, 0.15);\n",
              "      filter: drop-shadow(0px 1px 2px rgba(0, 0, 0, 0.3));\n",
              "      fill: #FFFFFF;\n",
              "    }\n",
              "  </style>\n",
              "\n",
              "    <script>\n",
              "      const buttonEl =\n",
              "        document.querySelector('#df-f6024833-1224-4032-9d9f-683c469407e1 button.colab-df-convert');\n",
              "      buttonEl.style.display =\n",
              "        google.colab.kernel.accessAllowed ? 'block' : 'none';\n",
              "\n",
              "      async function convertToInteractive(key) {\n",
              "        const element = document.querySelector('#df-f6024833-1224-4032-9d9f-683c469407e1');\n",
              "        const dataTable =\n",
              "          await google.colab.kernel.invokeFunction('convertToInteractive',\n",
              "                                                    [key], {});\n",
              "        if (!dataTable) return;\n",
              "\n",
              "        const docLinkHtml = 'Like what you see? Visit the ' +\n",
              "          '<a target=\"_blank\" href=https://colab.research.google.com/notebooks/data_table.ipynb>data table notebook</a>'\n",
              "          + ' to learn more about interactive tables.';\n",
              "        element.innerHTML = '';\n",
              "        dataTable['output_type'] = 'display_data';\n",
              "        await google.colab.output.renderOutput(dataTable, element);\n",
              "        const docLink = document.createElement('div');\n",
              "        docLink.innerHTML = docLinkHtml;\n",
              "        element.appendChild(docLink);\n",
              "      }\n",
              "    </script>\n",
              "  </div>\n",
              "\n",
              "\n",
              "<div id=\"df-2b149207-e31e-4e8d-94ab-bfd059479a98\">\n",
              "  <button class=\"colab-df-quickchart\" onclick=\"quickchart('df-2b149207-e31e-4e8d-94ab-bfd059479a98')\"\n",
              "            title=\"Suggest charts\"\n",
              "            style=\"display:none;\">\n",
              "\n",
              "<svg xmlns=\"http://www.w3.org/2000/svg\" height=\"24px\"viewBox=\"0 0 24 24\"\n",
              "     width=\"24px\">\n",
              "    <g>\n",
              "        <path d=\"M19 3H5c-1.1 0-2 .9-2 2v14c0 1.1.9 2 2 2h14c1.1 0 2-.9 2-2V5c0-1.1-.9-2-2-2zM9 17H7v-7h2v7zm4 0h-2V7h2v10zm4 0h-2v-4h2v4z\"/>\n",
              "    </g>\n",
              "</svg>\n",
              "  </button>\n",
              "\n",
              "<style>\n",
              "  .colab-df-quickchart {\n",
              "      --bg-color: #E8F0FE;\n",
              "      --fill-color: #1967D2;\n",
              "      --hover-bg-color: #E2EBFA;\n",
              "      --hover-fill-color: #174EA6;\n",
              "      --disabled-fill-color: #AAA;\n",
              "      --disabled-bg-color: #DDD;\n",
              "  }\n",
              "\n",
              "  [theme=dark] .colab-df-quickchart {\n",
              "      --bg-color: #3B4455;\n",
              "      --fill-color: #D2E3FC;\n",
              "      --hover-bg-color: #434B5C;\n",
              "      --hover-fill-color: #FFFFFF;\n",
              "      --disabled-bg-color: #3B4455;\n",
              "      --disabled-fill-color: #666;\n",
              "  }\n",
              "\n",
              "  .colab-df-quickchart {\n",
              "    background-color: var(--bg-color);\n",
              "    border: none;\n",
              "    border-radius: 50%;\n",
              "    cursor: pointer;\n",
              "    display: none;\n",
              "    fill: var(--fill-color);\n",
              "    height: 32px;\n",
              "    padding: 0;\n",
              "    width: 32px;\n",
              "  }\n",
              "\n",
              "  .colab-df-quickchart:hover {\n",
              "    background-color: var(--hover-bg-color);\n",
              "    box-shadow: 0 1px 2px rgba(60, 64, 67, 0.3), 0 1px 3px 1px rgba(60, 64, 67, 0.15);\n",
              "    fill: var(--button-hover-fill-color);\n",
              "  }\n",
              "\n",
              "  .colab-df-quickchart-complete:disabled,\n",
              "  .colab-df-quickchart-complete:disabled:hover {\n",
              "    background-color: var(--disabled-bg-color);\n",
              "    fill: var(--disabled-fill-color);\n",
              "    box-shadow: none;\n",
              "  }\n",
              "\n",
              "  .colab-df-spinner {\n",
              "    border: 2px solid var(--fill-color);\n",
              "    border-color: transparent;\n",
              "    border-bottom-color: var(--fill-color);\n",
              "    animation:\n",
              "      spin 1s steps(1) infinite;\n",
              "  }\n",
              "\n",
              "  @keyframes spin {\n",
              "    0% {\n",
              "      border-color: transparent;\n",
              "      border-bottom-color: var(--fill-color);\n",
              "      border-left-color: var(--fill-color);\n",
              "    }\n",
              "    20% {\n",
              "      border-color: transparent;\n",
              "      border-left-color: var(--fill-color);\n",
              "      border-top-color: var(--fill-color);\n",
              "    }\n",
              "    30% {\n",
              "      border-color: transparent;\n",
              "      border-left-color: var(--fill-color);\n",
              "      border-top-color: var(--fill-color);\n",
              "      border-right-color: var(--fill-color);\n",
              "    }\n",
              "    40% {\n",
              "      border-color: transparent;\n",
              "      border-right-color: var(--fill-color);\n",
              "      border-top-color: var(--fill-color);\n",
              "    }\n",
              "    60% {\n",
              "      border-color: transparent;\n",
              "      border-right-color: var(--fill-color);\n",
              "    }\n",
              "    80% {\n",
              "      border-color: transparent;\n",
              "      border-right-color: var(--fill-color);\n",
              "      border-bottom-color: var(--fill-color);\n",
              "    }\n",
              "    90% {\n",
              "      border-color: transparent;\n",
              "      border-bottom-color: var(--fill-color);\n",
              "    }\n",
              "  }\n",
              "</style>\n",
              "\n",
              "  <script>\n",
              "    async function quickchart(key) {\n",
              "      const quickchartButtonEl =\n",
              "        document.querySelector('#' + key + ' button');\n",
              "      quickchartButtonEl.disabled = true;  // To prevent multiple clicks.\n",
              "      quickchartButtonEl.classList.add('colab-df-spinner');\n",
              "      try {\n",
              "        const charts = await google.colab.kernel.invokeFunction(\n",
              "            'suggestCharts', [key], {});\n",
              "      } catch (error) {\n",
              "        console.error('Error during call to suggestCharts:', error);\n",
              "      }\n",
              "      quickchartButtonEl.classList.remove('colab-df-spinner');\n",
              "      quickchartButtonEl.classList.add('colab-df-quickchart-complete');\n",
              "    }\n",
              "    (() => {\n",
              "      let quickchartButtonEl =\n",
              "        document.querySelector('#df-2b149207-e31e-4e8d-94ab-bfd059479a98 button');\n",
              "      quickchartButtonEl.style.display =\n",
              "        google.colab.kernel.accessAllowed ? 'block' : 'none';\n",
              "    })();\n",
              "  </script>\n",
              "</div>\n",
              "    </div>\n",
              "  </div>\n"
            ],
            "application/vnd.google.colaboratory.intrinsic+json": {
              "type": "dataframe",
              "variable_name": "data",
              "summary": "{\n  \"name\": \"data\",\n  \"rows\": 52,\n  \"fields\": [\n    {\n      \"column\": \"Ages\",\n      \"properties\": {\n        \"dtype\": \"number\",\n        \"std\": 8.842345550244685,\n        \"min\": 19.0,\n        \"max\": 56.0,\n        \"num_unique_values\": 26,\n        \"samples\": [\n          21.0,\n          34.0,\n          41.0\n        ],\n        \"semantic_type\": \"\",\n        \"description\": \"\"\n      }\n    },\n    {\n      \"column\": \"Count_dependent\",\n      \"properties\": {\n        \"dtype\": \"number\",\n        \"std\": 0.9893136492531777,\n        \"min\": 0.0,\n        \"max\": 4.0,\n        \"num_unique_values\": 5,\n        \"samples\": [\n          1.0,\n          4.0,\n          3.0\n        ],\n        \"semantic_type\": \"\",\n        \"description\": \"\"\n      }\n    },\n    {\n      \"column\": \"Income\",\n      \"properties\": {\n        \"dtype\": \"number\",\n        \"std\": 10169.590858598613,\n        \"min\": 1500.0,\n        \"max\": 43300.0,\n        \"num_unique_values\": 46,\n        \"samples\": [\n          24900.0,\n          25500.0,\n          16800.0\n        ],\n        \"semantic_type\": \"\",\n        \"description\": \"\"\n      }\n    },\n    {\n      \"column\": \"Time_period_reg\",\n      \"properties\": {\n        \"dtype\": \"number\",\n        \"std\": 5.018374401402617,\n        \"min\": 0.0,\n        \"max\": 19.0,\n        \"num_unique_values\": 18,\n        \"samples\": [\n          11.0,\n          4.0,\n          16.0\n        ],\n        \"semantic_type\": \"\",\n        \"description\": \"\"\n      }\n    },\n    {\n      \"column\": \"Estimation\",\n      \"properties\": {\n        \"dtype\": \"number\",\n        \"std\": 10816.575212132897,\n        \"min\": 0.0,\n        \"max\": 50000.0,\n        \"num_unique_values\": 27,\n        \"samples\": [\n          14000.0,\n          9000.0,\n          7000.0\n        ],\n        \"semantic_type\": \"\",\n        \"description\": \"\"\n      }\n    },\n    {\n      \"column\": \"Credit_size\",\n      \"properties\": {\n        \"dtype\": \"number\",\n        \"std\": 99702.10527325071,\n        \"min\": 4000.0,\n        \"max\": 437000.0,\n        \"num_unique_values\": 48,\n        \"samples\": [\n          175000.0,\n          4000.0,\n          268000.0\n        ],\n        \"semantic_type\": \"\",\n        \"description\": \"\"\n      }\n    }\n  ]\n}"
            }
          },
          "metadata": {},
          "execution_count": 3
        }
      ],
      "source": [
        "data.head()"
      ]
    },
    {
      "cell_type": "code",
      "execution_count": 4,
      "metadata": {
        "colab": {
          "base_uri": "https://localhost:8080/"
        },
        "id": "6EYlQ7CjLPDf",
        "outputId": "3d029427-c902-495d-f3ae-16f10449354e"
      },
      "outputs": [
        {
          "output_type": "stream",
          "name": "stdout",
          "text": [
            "Количество клиентов: 52\n"
          ]
        }
      ],
      "source": [
        "print(\"Количество клиентов:\", data.shape[0])"
      ]
    },
    {
      "cell_type": "markdown",
      "metadata": {
        "id": "ZegOJeLi-inP"
      },
      "source": [
        "# Данные. Выполнить первичную обработку данных. Сделать первые выводы"
      ]
    },
    {
      "cell_type": "markdown",
      "metadata": {
        "id": "nIomIhqW-inQ"
      },
      "source": [
        "### 1. Рассмотрите данные и вычислите основные характеристики признаков: среднее, стандартное отклонение, медиана, квартили.  Постройте гистограммы признаков и блок диаграммы  признаков. Сделайте первые выводы о возможном распределении признаков"
      ]
    },
    {
      "cell_type": "code",
      "execution_count": 5,
      "metadata": {
        "id": "4QZ9Q5QS-inQ"
      },
      "outputs": [],
      "source": [
        "def describe_info_data(dataset):\n",
        "    summary = dataset.describe().transpose()\n",
        "    summary['median'] = data.median()\n",
        "\n",
        "    summary = summary.rename(columns={\n",
        "        'mean': 'Среднее',\n",
        "        'std': 'Стандартное отклонение',\n",
        "        '50%': 'Медиана',\n",
        "        '25%': '1-й квартиль',\n",
        "        '75%': '3-й квартиль'\n",
        "    })\n",
        "\n",
        "    return summary[['Среднее', 'Стандартное отклонение', 'Медиана', '1-й квартиль', '3-й квартиль']]"
      ]
    },
    {
      "cell_type": "code",
      "execution_count": 6,
      "metadata": {
        "colab": {
          "base_uri": "https://localhost:8080/",
          "height": 237
        },
        "id": "iBn9T7he-inQ",
        "outputId": "bac87a13-17a8-4dde-c8f7-63778094172f"
      },
      "outputs": [
        {
          "output_type": "execute_result",
          "data": {
            "text/plain": [
              "                       Среднее  Стандартное отклонение   Медиана  \\\n",
              "Ages                 39.020408                8.842346      39.0   \n",
              "Count_dependent       1.979592                0.989314       2.0   \n",
              "Income            19167.346939            10169.590859   16700.0   \n",
              "Time_period_reg      10.140000                5.018374      11.0   \n",
              "Estimation        20959.183673            10816.575212   19000.0   \n",
              "Credit_size      202980.000000            99702.105273  201000.0   \n",
              "\n",
              "                 1-й квартиль  3-й квартиль  \n",
              "Ages                     34.0          46.0  \n",
              "Count_dependent           1.0           3.0  \n",
              "Income                11900.0       28700.0  \n",
              "Time_period_reg           6.0          14.0  \n",
              "Estimation            13000.0       30000.0  \n",
              "Credit_size          126500.0      293000.0  "
            ],
            "text/html": [
              "\n",
              "  <div id=\"df-6febc5cd-34c4-41ea-b291-520005a1e9c9\" class=\"colab-df-container\">\n",
              "    <div>\n",
              "<style scoped>\n",
              "    .dataframe tbody tr th:only-of-type {\n",
              "        vertical-align: middle;\n",
              "    }\n",
              "\n",
              "    .dataframe tbody tr th {\n",
              "        vertical-align: top;\n",
              "    }\n",
              "\n",
              "    .dataframe thead th {\n",
              "        text-align: right;\n",
              "    }\n",
              "</style>\n",
              "<table border=\"1\" class=\"dataframe\">\n",
              "  <thead>\n",
              "    <tr style=\"text-align: right;\">\n",
              "      <th></th>\n",
              "      <th>Среднее</th>\n",
              "      <th>Стандартное отклонение</th>\n",
              "      <th>Медиана</th>\n",
              "      <th>1-й квартиль</th>\n",
              "      <th>3-й квартиль</th>\n",
              "    </tr>\n",
              "  </thead>\n",
              "  <tbody>\n",
              "    <tr>\n",
              "      <th>Ages</th>\n",
              "      <td>39.020408</td>\n",
              "      <td>8.842346</td>\n",
              "      <td>39.0</td>\n",
              "      <td>34.0</td>\n",
              "      <td>46.0</td>\n",
              "    </tr>\n",
              "    <tr>\n",
              "      <th>Count_dependent</th>\n",
              "      <td>1.979592</td>\n",
              "      <td>0.989314</td>\n",
              "      <td>2.0</td>\n",
              "      <td>1.0</td>\n",
              "      <td>3.0</td>\n",
              "    </tr>\n",
              "    <tr>\n",
              "      <th>Income</th>\n",
              "      <td>19167.346939</td>\n",
              "      <td>10169.590859</td>\n",
              "      <td>16700.0</td>\n",
              "      <td>11900.0</td>\n",
              "      <td>28700.0</td>\n",
              "    </tr>\n",
              "    <tr>\n",
              "      <th>Time_period_reg</th>\n",
              "      <td>10.140000</td>\n",
              "      <td>5.018374</td>\n",
              "      <td>11.0</td>\n",
              "      <td>6.0</td>\n",
              "      <td>14.0</td>\n",
              "    </tr>\n",
              "    <tr>\n",
              "      <th>Estimation</th>\n",
              "      <td>20959.183673</td>\n",
              "      <td>10816.575212</td>\n",
              "      <td>19000.0</td>\n",
              "      <td>13000.0</td>\n",
              "      <td>30000.0</td>\n",
              "    </tr>\n",
              "    <tr>\n",
              "      <th>Credit_size</th>\n",
              "      <td>202980.000000</td>\n",
              "      <td>99702.105273</td>\n",
              "      <td>201000.0</td>\n",
              "      <td>126500.0</td>\n",
              "      <td>293000.0</td>\n",
              "    </tr>\n",
              "  </tbody>\n",
              "</table>\n",
              "</div>\n",
              "    <div class=\"colab-df-buttons\">\n",
              "\n",
              "  <div class=\"colab-df-container\">\n",
              "    <button class=\"colab-df-convert\" onclick=\"convertToInteractive('df-6febc5cd-34c4-41ea-b291-520005a1e9c9')\"\n",
              "            title=\"Convert this dataframe to an interactive table.\"\n",
              "            style=\"display:none;\">\n",
              "\n",
              "  <svg xmlns=\"http://www.w3.org/2000/svg\" height=\"24px\" viewBox=\"0 -960 960 960\">\n",
              "    <path d=\"M120-120v-720h720v720H120Zm60-500h600v-160H180v160Zm220 220h160v-160H400v160Zm0 220h160v-160H400v160ZM180-400h160v-160H180v160Zm440 0h160v-160H620v160ZM180-180h160v-160H180v160Zm440 0h160v-160H620v160Z\"/>\n",
              "  </svg>\n",
              "    </button>\n",
              "\n",
              "  <style>\n",
              "    .colab-df-container {\n",
              "      display:flex;\n",
              "      gap: 12px;\n",
              "    }\n",
              "\n",
              "    .colab-df-convert {\n",
              "      background-color: #E8F0FE;\n",
              "      border: none;\n",
              "      border-radius: 50%;\n",
              "      cursor: pointer;\n",
              "      display: none;\n",
              "      fill: #1967D2;\n",
              "      height: 32px;\n",
              "      padding: 0 0 0 0;\n",
              "      width: 32px;\n",
              "    }\n",
              "\n",
              "    .colab-df-convert:hover {\n",
              "      background-color: #E2EBFA;\n",
              "      box-shadow: 0px 1px 2px rgba(60, 64, 67, 0.3), 0px 1px 3px 1px rgba(60, 64, 67, 0.15);\n",
              "      fill: #174EA6;\n",
              "    }\n",
              "\n",
              "    .colab-df-buttons div {\n",
              "      margin-bottom: 4px;\n",
              "    }\n",
              "\n",
              "    [theme=dark] .colab-df-convert {\n",
              "      background-color: #3B4455;\n",
              "      fill: #D2E3FC;\n",
              "    }\n",
              "\n",
              "    [theme=dark] .colab-df-convert:hover {\n",
              "      background-color: #434B5C;\n",
              "      box-shadow: 0px 1px 3px 1px rgba(0, 0, 0, 0.15);\n",
              "      filter: drop-shadow(0px 1px 2px rgba(0, 0, 0, 0.3));\n",
              "      fill: #FFFFFF;\n",
              "    }\n",
              "  </style>\n",
              "\n",
              "    <script>\n",
              "      const buttonEl =\n",
              "        document.querySelector('#df-6febc5cd-34c4-41ea-b291-520005a1e9c9 button.colab-df-convert');\n",
              "      buttonEl.style.display =\n",
              "        google.colab.kernel.accessAllowed ? 'block' : 'none';\n",
              "\n",
              "      async function convertToInteractive(key) {\n",
              "        const element = document.querySelector('#df-6febc5cd-34c4-41ea-b291-520005a1e9c9');\n",
              "        const dataTable =\n",
              "          await google.colab.kernel.invokeFunction('convertToInteractive',\n",
              "                                                    [key], {});\n",
              "        if (!dataTable) return;\n",
              "\n",
              "        const docLinkHtml = 'Like what you see? Visit the ' +\n",
              "          '<a target=\"_blank\" href=https://colab.research.google.com/notebooks/data_table.ipynb>data table notebook</a>'\n",
              "          + ' to learn more about interactive tables.';\n",
              "        element.innerHTML = '';\n",
              "        dataTable['output_type'] = 'display_data';\n",
              "        await google.colab.output.renderOutput(dataTable, element);\n",
              "        const docLink = document.createElement('div');\n",
              "        docLink.innerHTML = docLinkHtml;\n",
              "        element.appendChild(docLink);\n",
              "      }\n",
              "    </script>\n",
              "  </div>\n",
              "\n",
              "\n",
              "<div id=\"df-49282db7-8c51-40f6-a79a-79de50228f31\">\n",
              "  <button class=\"colab-df-quickchart\" onclick=\"quickchart('df-49282db7-8c51-40f6-a79a-79de50228f31')\"\n",
              "            title=\"Suggest charts\"\n",
              "            style=\"display:none;\">\n",
              "\n",
              "<svg xmlns=\"http://www.w3.org/2000/svg\" height=\"24px\"viewBox=\"0 0 24 24\"\n",
              "     width=\"24px\">\n",
              "    <g>\n",
              "        <path d=\"M19 3H5c-1.1 0-2 .9-2 2v14c0 1.1.9 2 2 2h14c1.1 0 2-.9 2-2V5c0-1.1-.9-2-2-2zM9 17H7v-7h2v7zm4 0h-2V7h2v10zm4 0h-2v-4h2v4z\"/>\n",
              "    </g>\n",
              "</svg>\n",
              "  </button>\n",
              "\n",
              "<style>\n",
              "  .colab-df-quickchart {\n",
              "      --bg-color: #E8F0FE;\n",
              "      --fill-color: #1967D2;\n",
              "      --hover-bg-color: #E2EBFA;\n",
              "      --hover-fill-color: #174EA6;\n",
              "      --disabled-fill-color: #AAA;\n",
              "      --disabled-bg-color: #DDD;\n",
              "  }\n",
              "\n",
              "  [theme=dark] .colab-df-quickchart {\n",
              "      --bg-color: #3B4455;\n",
              "      --fill-color: #D2E3FC;\n",
              "      --hover-bg-color: #434B5C;\n",
              "      --hover-fill-color: #FFFFFF;\n",
              "      --disabled-bg-color: #3B4455;\n",
              "      --disabled-fill-color: #666;\n",
              "  }\n",
              "\n",
              "  .colab-df-quickchart {\n",
              "    background-color: var(--bg-color);\n",
              "    border: none;\n",
              "    border-radius: 50%;\n",
              "    cursor: pointer;\n",
              "    display: none;\n",
              "    fill: var(--fill-color);\n",
              "    height: 32px;\n",
              "    padding: 0;\n",
              "    width: 32px;\n",
              "  }\n",
              "\n",
              "  .colab-df-quickchart:hover {\n",
              "    background-color: var(--hover-bg-color);\n",
              "    box-shadow: 0 1px 2px rgba(60, 64, 67, 0.3), 0 1px 3px 1px rgba(60, 64, 67, 0.15);\n",
              "    fill: var(--button-hover-fill-color);\n",
              "  }\n",
              "\n",
              "  .colab-df-quickchart-complete:disabled,\n",
              "  .colab-df-quickchart-complete:disabled:hover {\n",
              "    background-color: var(--disabled-bg-color);\n",
              "    fill: var(--disabled-fill-color);\n",
              "    box-shadow: none;\n",
              "  }\n",
              "\n",
              "  .colab-df-spinner {\n",
              "    border: 2px solid var(--fill-color);\n",
              "    border-color: transparent;\n",
              "    border-bottom-color: var(--fill-color);\n",
              "    animation:\n",
              "      spin 1s steps(1) infinite;\n",
              "  }\n",
              "\n",
              "  @keyframes spin {\n",
              "    0% {\n",
              "      border-color: transparent;\n",
              "      border-bottom-color: var(--fill-color);\n",
              "      border-left-color: var(--fill-color);\n",
              "    }\n",
              "    20% {\n",
              "      border-color: transparent;\n",
              "      border-left-color: var(--fill-color);\n",
              "      border-top-color: var(--fill-color);\n",
              "    }\n",
              "    30% {\n",
              "      border-color: transparent;\n",
              "      border-left-color: var(--fill-color);\n",
              "      border-top-color: var(--fill-color);\n",
              "      border-right-color: var(--fill-color);\n",
              "    }\n",
              "    40% {\n",
              "      border-color: transparent;\n",
              "      border-right-color: var(--fill-color);\n",
              "      border-top-color: var(--fill-color);\n",
              "    }\n",
              "    60% {\n",
              "      border-color: transparent;\n",
              "      border-right-color: var(--fill-color);\n",
              "    }\n",
              "    80% {\n",
              "      border-color: transparent;\n",
              "      border-right-color: var(--fill-color);\n",
              "      border-bottom-color: var(--fill-color);\n",
              "    }\n",
              "    90% {\n",
              "      border-color: transparent;\n",
              "      border-bottom-color: var(--fill-color);\n",
              "    }\n",
              "  }\n",
              "</style>\n",
              "\n",
              "  <script>\n",
              "    async function quickchart(key) {\n",
              "      const quickchartButtonEl =\n",
              "        document.querySelector('#' + key + ' button');\n",
              "      quickchartButtonEl.disabled = true;  // To prevent multiple clicks.\n",
              "      quickchartButtonEl.classList.add('colab-df-spinner');\n",
              "      try {\n",
              "        const charts = await google.colab.kernel.invokeFunction(\n",
              "            'suggestCharts', [key], {});\n",
              "      } catch (error) {\n",
              "        console.error('Error during call to suggestCharts:', error);\n",
              "      }\n",
              "      quickchartButtonEl.classList.remove('colab-df-spinner');\n",
              "      quickchartButtonEl.classList.add('colab-df-quickchart-complete');\n",
              "    }\n",
              "    (() => {\n",
              "      let quickchartButtonEl =\n",
              "        document.querySelector('#df-49282db7-8c51-40f6-a79a-79de50228f31 button');\n",
              "      quickchartButtonEl.style.display =\n",
              "        google.colab.kernel.accessAllowed ? 'block' : 'none';\n",
              "    })();\n",
              "  </script>\n",
              "</div>\n",
              "    </div>\n",
              "  </div>\n"
            ],
            "application/vnd.google.colaboratory.intrinsic+json": {
              "type": "dataframe",
              "summary": "{\n  \"name\": \"pd\",\n  \"rows\": 6,\n  \"fields\": [\n    {\n      \"column\": \"\\u0421\\u0440\\u0435\\u0434\\u043d\\u0435\\u0435\",\n      \"properties\": {\n        \"dtype\": \"number\",\n        \"std\": 80191.37252264912,\n        \"min\": 1.9795918367346939,\n        \"max\": 202980.0,\n        \"num_unique_values\": 6,\n        \"samples\": [\n          39.02040816326531,\n          1.9795918367346939,\n          202980.0\n        ],\n        \"semantic_type\": \"\",\n        \"description\": \"\"\n      }\n    },\n    {\n      \"column\": \"\\u0421\\u0442\\u0430\\u043d\\u0434\\u0430\\u0440\\u0442\\u043d\\u043e\\u0435 \\u043e\\u0442\\u043a\\u043b\\u043e\\u043d\\u0435\\u043d\\u0438\\u0435\",\n      \"properties\": {\n        \"dtype\": \"number\",\n        \"std\": 39326.12751366202,\n        \"min\": 0.9893136492531777,\n        \"max\": 99702.10527325071,\n        \"num_unique_values\": 6,\n        \"samples\": [\n          8.842345550244685,\n          0.9893136492531777,\n          99702.10527325071\n        ],\n        \"semantic_type\": \"\",\n        \"description\": \"\"\n      }\n    },\n    {\n      \"column\": \"\\u041c\\u0435\\u0434\\u0438\\u0430\\u043d\\u0430\",\n      \"properties\": {\n        \"dtype\": \"number\",\n        \"std\": 79622.82762541574,\n        \"min\": 2.0,\n        \"max\": 201000.0,\n        \"num_unique_values\": 6,\n        \"samples\": [\n          39.0,\n          2.0,\n          201000.0\n        ],\n        \"semantic_type\": \"\",\n        \"description\": \"\"\n      }\n    },\n    {\n      \"column\": \"1-\\u0439 \\u043a\\u0432\\u0430\\u0440\\u0442\\u0438\\u043b\\u044c\",\n      \"properties\": {\n        \"dtype\": \"number\",\n        \"std\": 49980.9265877161,\n        \"min\": 1.0,\n        \"max\": 126500.0,\n        \"num_unique_values\": 6,\n        \"samples\": [\n          34.0,\n          1.0,\n          126500.0\n        ],\n        \"semantic_type\": \"\",\n        \"description\": \"\"\n      }\n    },\n    {\n      \"column\": \"3-\\u0439 \\u043a\\u0432\\u0430\\u0440\\u0442\\u0438\\u043b\\u044c\",\n      \"properties\": {\n        \"dtype\": \"number\",\n        \"std\": 115715.01570049873,\n        \"min\": 3.0,\n        \"max\": 293000.0,\n        \"num_unique_values\": 6,\n        \"samples\": [\n          46.0,\n          3.0,\n          293000.0\n        ],\n        \"semantic_type\": \"\",\n        \"description\": \"\"\n      }\n    }\n  ]\n}"
            }
          },
          "metadata": {},
          "execution_count": 6
        }
      ],
      "source": [
        "pd.DataFrame(describe_info_data(dataset=data))"
      ]
    },
    {
      "cell_type": "code",
      "execution_count": 7,
      "metadata": {
        "colab": {
          "base_uri": "https://localhost:8080/",
          "height": 1000
        },
        "id": "UQIiMBh3-inQ",
        "outputId": "505b3a29-41ed-4267-b11b-79b040fa075b"
      },
      "outputs": [
        {
          "output_type": "display_data",
          "data": {
            "text/plain": [
              "<Figure size 1200x1800 with 12 Axes>"
            ],
            "image/png": "[encoded data removed]"
          },
          "metadata": {}
        }
      ],
      "source": [
        "fig, axs = plt.subplots(6, 2, figsize=(12, 18))\n",
        "\n",
        "# -------------------------------------------- Ages ---------------------------------------------#\n",
        "axs[0, 0].hist(data['Ages'], bins=20, color='skyblue', edgecolor='black')\n",
        "axs[0, 0].set_title('Гистограмма признака Ages')\n",
        "axs[0, 0].set_xlabel('Возраст')\n",
        "axs[0, 0].set_ylabel('Частота')\n",
        "axs[0, 0].grid(axis='y', alpha=0.75)\n",
        "\n",
        "df = data.dropna(subset=['Ages'])\n",
        "axs[0, 1].boxplot(x = df['Ages'])\n",
        "axs[0, 1].set_title('Boxplot признака Ages')\n",
        "axs[0, 1].set_xlabel('Возраст')\n",
        "axs[0, 1].grid(axis='x', alpha=0.75)\n",
        "\n",
        "# -------------------------------------------- Count ---------------------------------------------#\n",
        "axs[1, 0].hist(data['Count_dependent'], bins=20, color='skyblue', edgecolor='black')\n",
        "axs[1, 0].set_title('Гистограмма признака Count_dependent')\n",
        "axs[1, 0].set_xlabel('Количество иждив.')\n",
        "axs[1, 0].set_ylabel('Частота')\n",
        "axs[1, 0].grid(axis='y', alpha=0.75)\n",
        "\n",
        "df = data.dropna(subset=['Count_dependent'])\n",
        "axs[1, 1].boxplot(df['Count_dependent'])\n",
        "axs[1, 1].set_title('Boxplot признака Count_dependent')\n",
        "axs[1, 1].set_xlabel('Количество иждив.')\n",
        "axs[1, 1].grid(axis='x', alpha=0.75)\n",
        "\n",
        "# -------------------------------------------- Income ---------------------------------------------#\n",
        "axs[2, 0].hist(data['Income'], bins=20, color='skyblue', edgecolor='black')\n",
        "axs[2, 0].set_title('Гистограмма признака Income')\n",
        "axs[2, 0].set_xlabel('Размер дохода')\n",
        "axs[2, 0].set_ylabel('Частота')\n",
        "axs[2, 0].grid(axis='y', alpha=0.75)\n",
        "\n",
        "df = data.dropna(subset=['Income'])\n",
        "axs[2, 1].boxplot(df['Income'])\n",
        "axs[2, 1].set_title('Boxplot признака Income')\n",
        "axs[2, 1].set_xlabel('Размер дохода')\n",
        "axs[2, 1].grid(axis='x', alpha=0.75)\n",
        "\n",
        "# -------------------------------------------- Time_period_reg ---------------------------------------------#\n",
        "axs[3, 0].hist(data['Time_period_reg'], bins=20, color='skyblue', edgecolor='black')\n",
        "axs[3, 0].set_title('Гистограмма признака Time_period_reg')\n",
        "axs[3, 0].set_xlabel('Время проживания в регионе')\n",
        "axs[3, 0].set_ylabel('Частота')\n",
        "axs[3, 0].grid(axis='y', alpha=0.75)\n",
        "\n",
        "df = data.dropna(subset=['Time_period_reg'])\n",
        "axs[3, 1].boxplot(df['Time_period_reg'])\n",
        "axs[3, 1].set_title('Boxplot признака Time_period_reg')\n",
        "axs[3, 1].set_xlabel('Время проживания в регионе')\n",
        "axs[3, 1].grid(axis='x', alpha=0.75)\n",
        "\n",
        "# -------------------------------------------- Estimation ---------------------------------------------#\n",
        "axs[4, 0].hist(data['Estimation'], bins=20, color='skyblue', edgecolor='black')\n",
        "axs[4, 0].set_title('Гистограмма признака Estimation')\n",
        "axs[4, 0].set_xlabel('Оценка автомобиля заемщика')\n",
        "axs[4, 0].set_ylabel('Частота')\n",
        "axs[4, 0].grid(axis='y', alpha=0.75)\n",
        "\n",
        "df = data.dropna(subset=['Estimation'])\n",
        "axs[4, 1].boxplot(df['Estimation'])\n",
        "axs[4, 1].set_title('Boxplot признака Estimation')\n",
        "axs[4, 1].set_xlabel('Оценка автомобиля заемщика')\n",
        "axs[4, 1].grid(axis='x', alpha=0.75)\n",
        "\n",
        "# -------------------------------------------- Credit_size ---------------------------------------------#\n",
        "axs[5, 0].hist(data['Credit_size'], bins=20, color='skyblue', edgecolor='black')\n",
        "axs[5, 0].set_title('Гистограмма признака Credit_size')\n",
        "axs[5, 0].set_xlabel('Размер кредита (тыс. руб.)')\n",
        "axs[5, 0].set_ylabel('Частота')\n",
        "axs[5, 0].grid(axis='y', alpha=0.75)\n",
        "\n",
        "df = data.dropna(subset=['Credit_size'])\n",
        "axs[5, 1].boxplot(df['Credit_size'])\n",
        "axs[5, 1].set_title('Boxplot признака Credit_size')\n",
        "axs[5, 1].set_xlabel('Размер кредита (тыс. руб.)')\n",
        "axs[5, 1].grid(axis='x', alpha=0.75)\n",
        "\n",
        "plt.tight_layout()\n",
        "plt.show()"
      ]
    },
    {
      "cell_type": "markdown",
      "metadata": {
        "id": "kpPehD7eAW2L"
      },
      "source": [
        "**Возраст.** Средний и медианный возраст (39.0) близки друг к другу, что указывает на отсутствие сильных выбросов в данных о возрасте. Стандартное отклонение (8.84) говорит о том, что разброс возрастов в выборке имеет среднюю величину.\n",
        "\n",
        "**Количество иждивенцев.** В среднем, участники имеют чуть меньше 2 иждивенцев, с разбросом от 1 до 3 иждивенцев у 50% выборки. По гистограмме можно предположить, что данные имеют нормальное распределение.\n",
        "\n",
        "**Доход.** Средний доход выше медианы, что может указывать на наличие нескольких высоких доходов, влияющих на среднее. Также высокое стандартное отклонение (10169.59) показывает значительный разброс доходов.\n",
        "\n",
        "**Срок проживания в регионе.** Средний период проживания в регоине также близок к медиане, что указывает на некоторую симметрию распределения. Разброс средний (стандартное отклонение 5.02).\n",
        "\n",
        "**Оценка автомобиля заемщика.** Среднее оценки автомобиля превышает медиану, что может указывать на некоторое количество высоких значений.Также мощный разброс в оценках (стандартное отклонение 10816.58).\n",
        "\n",
        "**Размер кредита.** Существует широкий диапазон размеров кредитов с некоторым количеством крупных кредитов, что приводит к высокому стандартному отклонению (99702.1).\n",
        "\n"
      ]
    },
    {
      "cell_type": "code",
      "execution_count": 8,
      "metadata": {
        "colab": {
          "base_uri": "https://localhost:8080/",
          "height": 560
        },
        "id": "Erp-E9_--inR",
        "outputId": "7b85f093-c563-4d4a-c7dc-3a81fe0e672b"
      },
      "outputs": [
        {
          "output_type": "display_data",
          "data": {
            "text/plain": [
              "<Figure size 700x500 with 2 Axes>"
            ],
            "image/png": "[encoded data removed]"
          },
          "metadata": {}
        }
      ],
      "source": [
        "corr = data.corr(method='pearson')\n",
        "plt.figure(figsize=(7, 5))\n",
        "sns.heatmap(corr, annot=True);"
      ]
    },
    {
      "cell_type": "markdown",
      "metadata": {
        "id": "EYeX3Um9-inR"
      },
      "source": [
        "**Комментарий:** Как видно из матрицы корреляции, материальные признаки имеют большую корреляцию между собой. В частности признак `Credit_size` (размер кредита) имеет корреляцию по Пирсону с `income` (размер дохода) и `Estimation` (оценка автомобиля) 0.96 и 0.87 соответственно.\n",
        "\n",
        "Также нематериальные признаки тоже имеют большую корреляцию между собой: признак `Ages` (возраст) сильно зависит от `Count_dependent` (количество иждивенцев) и `Time_period_reg` (время проживания в регионе) - 0.68 и 0.85 соответственно.\n",
        "\n",
        "В целом эти наблюдения вполне логичны со смысловой точки зрения."
      ]
    },
    {
      "cell_type": "markdown",
      "metadata": {
        "id": "nfJX4mQ_-inR"
      },
      "source": [
        "### 2. В данных есть пропуски. Подберите из литературы метод восстановления пропущенных данных и заполните пропуски по этому методу."
      ]
    },
    {
      "cell_type": "code",
      "execution_count": 9,
      "metadata": {
        "colab": {
          "base_uri": "https://localhost:8080/",
          "height": 255
        },
        "id": "4hv25C0zMB45",
        "outputId": "62d95233-86fb-4908-b6f8-f7128f5c2d63"
      },
      "outputs": [
        {
          "output_type": "stream",
          "name": "stdout",
          "text": [
            "Количестов пропусков по признакам:\n"
          ]
        },
        {
          "output_type": "execute_result",
          "data": {
            "text/plain": [
              "                 0\n",
              "Ages             3\n",
              "Count_dependent  3\n",
              "Income           3\n",
              "Time_period_reg  2\n",
              "Estimation       3\n",
              "Credit_size      2"
            ],
            "text/html": [
              "\n",
              "  <div id=\"df-13bd7f0b-d2ac-408c-997b-7f1d528c7885\" class=\"colab-df-container\">\n",
              "    <div>\n",
              "<style scoped>\n",
              "    .dataframe tbody tr th:only-of-type {\n",
              "        vertical-align: middle;\n",
              "    }\n",
              "\n",
              "    .dataframe tbody tr th {\n",
              "        vertical-align: top;\n",
              "    }\n",
              "\n",
              "    .dataframe thead th {\n",
              "        text-align: right;\n",
              "    }\n",
              "</style>\n",
              "<table border=\"1\" class=\"dataframe\">\n",
              "  <thead>\n",
              "    <tr style=\"text-align: right;\">\n",
              "      <th></th>\n",
              "      <th>0</th>\n",
              "    </tr>\n",
              "  </thead>\n",
              "  <tbody>\n",
              "    <tr>\n",
              "      <th>Ages</th>\n",
              "      <td>3</td>\n",
              "    </tr>\n",
              "    <tr>\n",
              "      <th>Count_dependent</th>\n",
              "      <td>3</td>\n",
              "    </tr>\n",
              "    <tr>\n",
              "      <th>Income</th>\n",
              "      <td>3</td>\n",
              "    </tr>\n",
              "    <tr>\n",
              "      <th>Time_period_reg</th>\n",
              "      <td>2</td>\n",
              "    </tr>\n",
              "    <tr>\n",
              "      <th>Estimation</th>\n",
              "      <td>3</td>\n",
              "    </tr>\n",
              "    <tr>\n",
              "      <th>Credit_size</th>\n",
              "      <td>2</td>\n",
              "    </tr>\n",
              "  </tbody>\n",
              "</table>\n",
              "</div>\n",
              "    <div class=\"colab-df-buttons\">\n",
              "\n",
              "  <div class=\"colab-df-container\">\n",
              "    <button class=\"colab-df-convert\" onclick=\"convertToInteractive('df-13bd7f0b-d2ac-408c-997b-7f1d528c7885')\"\n",
              "            title=\"Convert this dataframe to an interactive table.\"\n",
              "            style=\"display:none;\">\n",
              "\n",
              "  <svg xmlns=\"http://www.w3.org/2000/svg\" height=\"24px\" viewBox=\"0 -960 960 960\">\n",
              "    <path d=\"M120-120v-720h720v720H120Zm60-500h600v-160H180v160Zm220 220h160v-160H400v160Zm0 220h160v-160H400v160ZM180-400h160v-160H180v160Zm440 0h160v-160H620v160ZM180-180h160v-160H180v160Zm440 0h160v-160H620v160Z\"/>\n",
              "  </svg>\n",
              "    </button>\n",
              "\n",
              "  <style>\n",
              "    .colab-df-container {\n",
              "      display:flex;\n",
              "      gap: 12px;\n",
              "    }\n",
              "\n",
              "    .colab-df-convert {\n",
              "      background-color: #E8F0FE;\n",
              "      border: none;\n",
              "      border-radius: 50%;\n",
              "      cursor: pointer;\n",
              "      display: none;\n",
              "      fill: #1967D2;\n",
              "      height: 32px;\n",
              "      padding: 0 0 0 0;\n",
              "      width: 32px;\n",
              "    }\n",
              "\n",
              "    .colab-df-convert:hover {\n",
              "      background-color: #E2EBFA;\n",
              "      box-shadow: 0px 1px 2px rgba(60, 64, 67, 0.3), 0px 1px 3px 1px rgba(60, 64, 67, 0.15);\n",
              "      fill: #174EA6;\n",
              "    }\n",
              "\n",
              "    .colab-df-buttons div {\n",
              "      margin-bottom: 4px;\n",
              "    }\n",
              "\n",
              "    [theme=dark] .colab-df-convert {\n",
              "      background-color: #3B4455;\n",
              "      fill: #D2E3FC;\n",
              "    }\n",
              "\n",
              "    [theme=dark] .colab-df-convert:hover {\n",
              "      background-color: #434B5C;\n",
              "      box-shadow: 0px 1px 3px 1px rgba(0, 0, 0, 0.15);\n",
              "      filter: drop-shadow(0px 1px 2px rgba(0, 0, 0, 0.3));\n",
              "      fill: #FFFFFF;\n",
              "    }\n",
              "  </style>\n",
              "\n",
              "    <script>\n",
              "      const buttonEl =\n",
              "        document.querySelector('#df-13bd7f0b-d2ac-408c-997b-7f1d528c7885 button.colab-df-convert');\n",
              "      buttonEl.style.display =\n",
              "        google.colab.kernel.accessAllowed ? 'block' : 'none';\n",
              "\n",
              "      async function convertToInteractive(key) {\n",
              "        const element = document.querySelector('#df-13bd7f0b-d2ac-408c-997b-7f1d528c7885');\n",
              "        const dataTable =\n",
              "          await google.colab.kernel.invokeFunction('convertToInteractive',\n",
              "                                                    [key], {});\n",
              "        if (!dataTable) return;\n",
              "\n",
              "        const docLinkHtml = 'Like what you see? Visit the ' +\n",
              "          '<a target=\"_blank\" href=https://colab.research.google.com/notebooks/data_table.ipynb>data table notebook</a>'\n",
              "          + ' to learn more about interactive tables.';\n",
              "        element.innerHTML = '';\n",
              "        dataTable['output_type'] = 'display_data';\n",
              "        await google.colab.output.renderOutput(dataTable, element);\n",
              "        const docLink = document.createElement('div');\n",
              "        docLink.innerHTML = docLinkHtml;\n",
              "        element.appendChild(docLink);\n",
              "      }\n",
              "    </script>\n",
              "  </div>\n",
              "\n",
              "\n",
              "<div id=\"df-ea672bb0-34fc-48f1-ba25-dcce01124cd7\">\n",
              "  <button class=\"colab-df-quickchart\" onclick=\"quickchart('df-ea672bb0-34fc-48f1-ba25-dcce01124cd7')\"\n",
              "            title=\"Suggest charts\"\n",
              "            style=\"display:none;\">\n",
              "\n",
              "<svg xmlns=\"http://www.w3.org/2000/svg\" height=\"24px\"viewBox=\"0 0 24 24\"\n",
              "     width=\"24px\">\n",
              "    <g>\n",
              "        <path d=\"M19 3H5c-1.1 0-2 .9-2 2v14c0 1.1.9 2 2 2h14c1.1 0 2-.9 2-2V5c0-1.1-.9-2-2-2zM9 17H7v-7h2v7zm4 0h-2V7h2v10zm4 0h-2v-4h2v4z\"/>\n",
              "    </g>\n",
              "</svg>\n",
              "  </button>\n",
              "\n",
              "<style>\n",
              "  .colab-df-quickchart {\n",
              "      --bg-color: #E8F0FE;\n",
              "      --fill-color: #1967D2;\n",
              "      --hover-bg-color: #E2EBFA;\n",
              "      --hover-fill-color: #174EA6;\n",
              "      --disabled-fill-color: #AAA;\n",
              "      --disabled-bg-color: #DDD;\n",
              "  }\n",
              "\n",
              "  [theme=dark] .colab-df-quickchart {\n",
              "      --bg-color: #3B4455;\n",
              "      --fill-color: #D2E3FC;\n",
              "      --hover-bg-color: #434B5C;\n",
              "      --hover-fill-color: #FFFFFF;\n",
              "      --disabled-bg-color: #3B4455;\n",
              "      --disabled-fill-color: #666;\n",
              "  }\n",
              "\n",
              "  .colab-df-quickchart {\n",
              "    background-color: var(--bg-color);\n",
              "    border: none;\n",
              "    border-radius: 50%;\n",
              "    cursor: pointer;\n",
              "    display: none;\n",
              "    fill: var(--fill-color);\n",
              "    height: 32px;\n",
              "    padding: 0;\n",
              "    width: 32px;\n",
              "  }\n",
              "\n",
              "  .colab-df-quickchart:hover {\n",
              "    background-color: var(--hover-bg-color);\n",
              "    box-shadow: 0 1px 2px rgba(60, 64, 67, 0.3), 0 1px 3px 1px rgba(60, 64, 67, 0.15);\n",
              "    fill: var(--button-hover-fill-color);\n",
              "  }\n",
              "\n",
              "  .colab-df-quickchart-complete:disabled,\n",
              "  .colab-df-quickchart-complete:disabled:hover {\n",
              "    background-color: var(--disabled-bg-color);\n",
              "    fill: var(--disabled-fill-color);\n",
              "    box-shadow: none;\n",
              "  }\n",
              "\n",
              "  .colab-df-spinner {\n",
              "    border: 2px solid var(--fill-color);\n",
              "    border-color: transparent;\n",
              "    border-bottom-color: var(--fill-color);\n",
              "    animation:\n",
              "      spin 1s steps(1) infinite;\n",
              "  }\n",
              "\n",
              "  @keyframes spin {\n",
              "    0% {\n",
              "      border-color: transparent;\n",
              "      border-bottom-color: var(--fill-color);\n",
              "      border-left-color: var(--fill-color);\n",
              "    }\n",
              "    20% {\n",
              "      border-color: transparent;\n",
              "      border-left-color: var(--fill-color);\n",
              "      border-top-color: var(--fill-color);\n",
              "    }\n",
              "    30% {\n",
              "      border-color: transparent;\n",
              "      border-left-color: var(--fill-color);\n",
              "      border-top-color: var(--fill-color);\n",
              "      border-right-color: var(--fill-color);\n",
              "    }\n",
              "    40% {\n",
              "      border-color: transparent;\n",
              "      border-right-color: var(--fill-color);\n",
              "      border-top-color: var(--fill-color);\n",
              "    }\n",
              "    60% {\n",
              "      border-color: transparent;\n",
              "      border-right-color: var(--fill-color);\n",
              "    }\n",
              "    80% {\n",
              "      border-color: transparent;\n",
              "      border-right-color: var(--fill-color);\n",
              "      border-bottom-color: var(--fill-color);\n",
              "    }\n",
              "    90% {\n",
              "      border-color: transparent;\n",
              "      border-bottom-color: var(--fill-color);\n",
              "    }\n",
              "  }\n",
              "</style>\n",
              "\n",
              "  <script>\n",
              "    async function quickchart(key) {\n",
              "      const quickchartButtonEl =\n",
              "        document.querySelector('#' + key + ' button');\n",
              "      quickchartButtonEl.disabled = true;  // To prevent multiple clicks.\n",
              "      quickchartButtonEl.classList.add('colab-df-spinner');\n",
              "      try {\n",
              "        const charts = await google.colab.kernel.invokeFunction(\n",
              "            'suggestCharts', [key], {});\n",
              "      } catch (error) {\n",
              "        console.error('Error during call to suggestCharts:', error);\n",
              "      }\n",
              "      quickchartButtonEl.classList.remove('colab-df-spinner');\n",
              "      quickchartButtonEl.classList.add('colab-df-quickchart-complete');\n",
              "    }\n",
              "    (() => {\n",
              "      let quickchartButtonEl =\n",
              "        document.querySelector('#df-ea672bb0-34fc-48f1-ba25-dcce01124cd7 button');\n",
              "      quickchartButtonEl.style.display =\n",
              "        google.colab.kernel.accessAllowed ? 'block' : 'none';\n",
              "    })();\n",
              "  </script>\n",
              "</div>\n",
              "    </div>\n",
              "  </div>\n"
            ],
            "application/vnd.google.colaboratory.intrinsic+json": {
              "type": "dataframe",
              "summary": "{\n  \"name\": \"pd\",\n  \"rows\": 6,\n  \"fields\": [\n    {\n      \"column\": 0,\n      \"properties\": {\n        \"dtype\": \"number\",\n        \"std\": 0,\n        \"min\": 2,\n        \"max\": 3,\n        \"num_unique_values\": 2,\n        \"samples\": [\n          2,\n          3\n        ],\n        \"semantic_type\": \"\",\n        \"description\": \"\"\n      }\n    }\n  ]\n}"
            }
          },
          "metadata": {},
          "execution_count": 9
        }
      ],
      "source": [
        "print('Количестов пропусков по признакам:')\n",
        "pd.DataFrame(data.isna().sum())"
      ]
    },
    {
      "cell_type": "markdown",
      "metadata": {
        "id": "fhDE6k44-inR"
      },
      "source": [
        "#### 1. Заполнение средними."
      ]
    },
    {
      "cell_type": "code",
      "execution_count": 10,
      "metadata": {
        "colab": {
          "base_uri": "https://localhost:8080/",
          "height": 237
        },
        "id": "6wOt2DeQ-inR",
        "outputId": "15fb3f74-afa2-4278-e370-f1dadfe4e81c"
      },
      "outputs": [
        {
          "output_type": "execute_result",
          "data": {
            "text/plain": [
              "                       Среднее  Стандартное отклонение        Медиана  \\\n",
              "Ages                 39.020408                8.578335      39.020408   \n",
              "Count_dependent       1.979592                0.959775       2.000000   \n",
              "Income            19167.346939             9865.952301   17250.000000   \n",
              "Time_period_reg      10.140000                4.918991      10.570000   \n",
              "Estimation        20959.183673            10493.619319   20479.591837   \n",
              "Credit_size      202980.000000            97727.610645  202490.000000   \n",
              "\n",
              "                  1-й квартиль  3-й квартиль  \n",
              "Ages                 34.750000         46.00  \n",
              "Count_dependent       1.734694          2.25  \n",
              "Income            12050.000000      28700.00  \n",
              "Time_period_reg       6.000000         14.00  \n",
              "Estimation        13000.000000      30000.00  \n",
              "Credit_size      127500.000000     293000.00  "
            ],
            "text/html": [
              "\n",
              "  <div id=\"df-aa0d4d54-d735-4d45-a0fa-ee1ddee11079\" class=\"colab-df-container\">\n",
              "    <div>\n",
              "<style scoped>\n",
              "    .dataframe tbody tr th:only-of-type {\n",
              "        vertical-align: middle;\n",
              "    }\n",
              "\n",
              "    .dataframe tbody tr th {\n",
              "        vertical-align: top;\n",
              "    }\n",
              "\n",
              "    .dataframe thead th {\n",
              "        text-align: right;\n",
              "    }\n",
              "</style>\n",
              "<table border=\"1\" class=\"dataframe\">\n",
              "  <thead>\n",
              "    <tr style=\"text-align: right;\">\n",
              "      <th></th>\n",
              "      <th>Среднее</th>\n",
              "      <th>Стандартное отклонение</th>\n",
              "      <th>Медиана</th>\n",
              "      <th>1-й квартиль</th>\n",
              "      <th>3-й квартиль</th>\n",
              "    </tr>\n",
              "  </thead>\n",
              "  <tbody>\n",
              "    <tr>\n",
              "      <th>Ages</th>\n",
              "      <td>39.020408</td>\n",
              "      <td>8.578335</td>\n",
              "      <td>39.020408</td>\n",
              "      <td>34.750000</td>\n",
              "      <td>46.00</td>\n",
              "    </tr>\n",
              "    <tr>\n",
              "      <th>Count_dependent</th>\n",
              "      <td>1.979592</td>\n",
              "      <td>0.959775</td>\n",
              "      <td>2.000000</td>\n",
              "      <td>1.734694</td>\n",
              "      <td>2.25</td>\n",
              "    </tr>\n",
              "    <tr>\n",
              "      <th>Income</th>\n",
              "      <td>19167.346939</td>\n",
              "      <td>9865.952301</td>\n",
              "      <td>17250.000000</td>\n",
              "      <td>12050.000000</td>\n",
              "      <td>28700.00</td>\n",
              "    </tr>\n",
              "    <tr>\n",
              "      <th>Time_period_reg</th>\n",
              "      <td>10.140000</td>\n",
              "      <td>4.918991</td>\n",
              "      <td>10.570000</td>\n",
              "      <td>6.000000</td>\n",
              "      <td>14.00</td>\n",
              "    </tr>\n",
              "    <tr>\n",
              "      <th>Estimation</th>\n",
              "      <td>20959.183673</td>\n",
              "      <td>10493.619319</td>\n",
              "      <td>20479.591837</td>\n",
              "      <td>13000.000000</td>\n",
              "      <td>30000.00</td>\n",
              "    </tr>\n",
              "    <tr>\n",
              "      <th>Credit_size</th>\n",
              "      <td>202980.000000</td>\n",
              "      <td>97727.610645</td>\n",
              "      <td>202490.000000</td>\n",
              "      <td>127500.000000</td>\n",
              "      <td>293000.00</td>\n",
              "    </tr>\n",
              "  </tbody>\n",
              "</table>\n",
              "</div>\n",
              "    <div class=\"colab-df-buttons\">\n",
              "\n",
              "  <div class=\"colab-df-container\">\n",
              "    <button class=\"colab-df-convert\" onclick=\"convertToInteractive('df-aa0d4d54-d735-4d45-a0fa-ee1ddee11079')\"\n",
              "            title=\"Convert this dataframe to an interactive table.\"\n",
              "            style=\"display:none;\">\n",
              "\n",
              "  <svg xmlns=\"http://www.w3.org/2000/svg\" height=\"24px\" viewBox=\"0 -960 960 960\">\n",
              "    <path d=\"M120-120v-720h720v720H120Zm60-500h600v-160H180v160Zm220 220h160v-160H400v160Zm0 220h160v-160H400v160ZM180-400h160v-160H180v160Zm440 0h160v-160H620v160ZM180-180h160v-160H180v160Zm440 0h160v-160H620v160Z\"/>\n",
              "  </svg>\n",
              "    </button>\n",
              "\n",
              "  <style>\n",
              "    .colab-df-container {\n",
              "      display:flex;\n",
              "      gap: 12px;\n",
              "    }\n",
              "\n",
              "    .colab-df-convert {\n",
              "      background-color: #E8F0FE;\n",
              "      border: none;\n",
              "      border-radius: 50%;\n",
              "      cursor: pointer;\n",
              "      display: none;\n",
              "      fill: #1967D2;\n",
              "      height: 32px;\n",
              "      padding: 0 0 0 0;\n",
              "      width: 32px;\n",
              "    }\n",
              "\n",
              "    .colab-df-convert:hover {\n",
              "      background-color: #E2EBFA;\n",
              "      box-shadow: 0px 1px 2px rgba(60, 64, 67, 0.3), 0px 1px 3px 1px rgba(60, 64, 67, 0.15);\n",
              "      fill: #174EA6;\n",
              "    }\n",
              "\n",
              "    .colab-df-buttons div {\n",
              "      margin-bottom: 4px;\n",
              "    }\n",
              "\n",
              "    [theme=dark] .colab-df-convert {\n",
              "      background-color: #3B4455;\n",
              "      fill: #D2E3FC;\n",
              "    }\n",
              "\n",
              "    [theme=dark] .colab-df-convert:hover {\n",
              "      background-color: #434B5C;\n",
              "      box-shadow: 0px 1px 3px 1px rgba(0, 0, 0, 0.15);\n",
              "      filter: drop-shadow(0px 1px 2px rgba(0, 0, 0, 0.3));\n",
              "      fill: #FFFFFF;\n",
              "    }\n",
              "  </style>\n",
              "\n",
              "    <script>\n",
              "      const buttonEl =\n",
              "        document.querySelector('#df-aa0d4d54-d735-4d45-a0fa-ee1ddee11079 button.colab-df-convert');\n",
              "      buttonEl.style.display =\n",
              "        google.colab.kernel.accessAllowed ? 'block' : 'none';\n",
              "\n",
              "      async function convertToInteractive(key) {\n",
              "        const element = document.querySelector('#df-aa0d4d54-d735-4d45-a0fa-ee1ddee11079');\n",
              "        const dataTable =\n",
              "          await google.colab.kernel.invokeFunction('convertToInteractive',\n",
              "                                                    [key], {});\n",
              "        if (!dataTable) return;\n",
              "\n",
              "        const docLinkHtml = 'Like what you see? Visit the ' +\n",
              "          '<a target=\"_blank\" href=https://colab.research.google.com/notebooks/data_table.ipynb>data table notebook</a>'\n",
              "          + ' to learn more about interactive tables.';\n",
              "        element.innerHTML = '';\n",
              "        dataTable['output_type'] = 'display_data';\n",
              "        await google.colab.output.renderOutput(dataTable, element);\n",
              "        const docLink = document.createElement('div');\n",
              "        docLink.innerHTML = docLinkHtml;\n",
              "        element.appendChild(docLink);\n",
              "      }\n",
              "    </script>\n",
              "  </div>\n",
              "\n",
              "\n",
              "<div id=\"df-c8a64850-682f-44cc-b07a-8d2ea099b7fb\">\n",
              "  <button class=\"colab-df-quickchart\" onclick=\"quickchart('df-c8a64850-682f-44cc-b07a-8d2ea099b7fb')\"\n",
              "            title=\"Suggest charts\"\n",
              "            style=\"display:none;\">\n",
              "\n",
              "<svg xmlns=\"http://www.w3.org/2000/svg\" height=\"24px\"viewBox=\"0 0 24 24\"\n",
              "     width=\"24px\">\n",
              "    <g>\n",
              "        <path d=\"M19 3H5c-1.1 0-2 .9-2 2v14c0 1.1.9 2 2 2h14c1.1 0 2-.9 2-2V5c0-1.1-.9-2-2-2zM9 17H7v-7h2v7zm4 0h-2V7h2v10zm4 0h-2v-4h2v4z\"/>\n",
              "    </g>\n",
              "</svg>\n",
              "  </button>\n",
              "\n",
              "<style>\n",
              "  .colab-df-quickchart {\n",
              "      --bg-color: #E8F0FE;\n",
              "      --fill-color: #1967D2;\n",
              "      --hover-bg-color: #E2EBFA;\n",
              "      --hover-fill-color: #174EA6;\n",
              "      --disabled-fill-color: #AAA;\n",
              "      --disabled-bg-color: #DDD;\n",
              "  }\n",
              "\n",
              "  [theme=dark] .colab-df-quickchart {\n",
              "      --bg-color: #3B4455;\n",
              "      --fill-color: #D2E3FC;\n",
              "      --hover-bg-color: #434B5C;\n",
              "      --hover-fill-color: #FFFFFF;\n",
              "      --disabled-bg-color: #3B4455;\n",
              "      --disabled-fill-color: #666;\n",
              "  }\n",
              "\n",
              "  .colab-df-quickchart {\n",
              "    background-color: var(--bg-color);\n",
              "    border: none;\n",
              "    border-radius: 50%;\n",
              "    cursor: pointer;\n",
              "    display: none;\n",
              "    fill: var(--fill-color);\n",
              "    height: 32px;\n",
              "    padding: 0;\n",
              "    width: 32px;\n",
              "  }\n",
              "\n",
              "  .colab-df-quickchart:hover {\n",
              "    background-color: var(--hover-bg-color);\n",
              "    box-shadow: 0 1px 2px rgba(60, 64, 67, 0.3), 0 1px 3px 1px rgba(60, 64, 67, 0.15);\n",
              "    fill: var(--button-hover-fill-color);\n",
              "  }\n",
              "\n",
              "  .colab-df-quickchart-complete:disabled,\n",
              "  .colab-df-quickchart-complete:disabled:hover {\n",
              "    background-color: var(--disabled-bg-color);\n",
              "    fill: var(--disabled-fill-color);\n",
              "    box-shadow: none;\n",
              "  }\n",
              "\n",
              "  .colab-df-spinner {\n",
              "    border: 2px solid var(--fill-color);\n",
              "    border-color: transparent;\n",
              "    border-bottom-color: var(--fill-color);\n",
              "    animation:\n",
              "      spin 1s steps(1) infinite;\n",
              "  }\n",
              "\n",
              "  @keyframes spin {\n",
              "    0% {\n",
              "      border-color: transparent;\n",
              "      border-bottom-color: var(--fill-color);\n",
              "      border-left-color: var(--fill-color);\n",
              "    }\n",
              "    20% {\n",
              "      border-color: transparent;\n",
              "      border-left-color: var(--fill-color);\n",
              "      border-top-color: var(--fill-color);\n",
              "    }\n",
              "    30% {\n",
              "      border-color: transparent;\n",
              "      border-left-color: var(--fill-color);\n",
              "      border-top-color: var(--fill-color);\n",
              "      border-right-color: var(--fill-color);\n",
              "    }\n",
              "    40% {\n",
              "      border-color: transparent;\n",
              "      border-right-color: var(--fill-color);\n",
              "      border-top-color: var(--fill-color);\n",
              "    }\n",
              "    60% {\n",
              "      border-color: transparent;\n",
              "      border-right-color: var(--fill-color);\n",
              "    }\n",
              "    80% {\n",
              "      border-color: transparent;\n",
              "      border-right-color: var(--fill-color);\n",
              "      border-bottom-color: var(--fill-color);\n",
              "    }\n",
              "    90% {\n",
              "      border-color: transparent;\n",
              "      border-bottom-color: var(--fill-color);\n",
              "    }\n",
              "  }\n",
              "</style>\n",
              "\n",
              "  <script>\n",
              "    async function quickchart(key) {\n",
              "      const quickchartButtonEl =\n",
              "        document.querySelector('#' + key + ' button');\n",
              "      quickchartButtonEl.disabled = true;  // To prevent multiple clicks.\n",
              "      quickchartButtonEl.classList.add('colab-df-spinner');\n",
              "      try {\n",
              "        const charts = await google.colab.kernel.invokeFunction(\n",
              "            'suggestCharts', [key], {});\n",
              "      } catch (error) {\n",
              "        console.error('Error during call to suggestCharts:', error);\n",
              "      }\n",
              "      quickchartButtonEl.classList.remove('colab-df-spinner');\n",
              "      quickchartButtonEl.classList.add('colab-df-quickchart-complete');\n",
              "    }\n",
              "    (() => {\n",
              "      let quickchartButtonEl =\n",
              "        document.querySelector('#df-c8a64850-682f-44cc-b07a-8d2ea099b7fb button');\n",
              "      quickchartButtonEl.style.display =\n",
              "        google.colab.kernel.accessAllowed ? 'block' : 'none';\n",
              "    })();\n",
              "  </script>\n",
              "</div>\n",
              "    </div>\n",
              "  </div>\n"
            ],
            "application/vnd.google.colaboratory.intrinsic+json": {
              "type": "dataframe",
              "summary": "{\n  \"name\": \"pd\",\n  \"rows\": 6,\n  \"fields\": [\n    {\n      \"column\": \"\\u0421\\u0440\\u0435\\u0434\\u043d\\u0435\\u0435\",\n      \"properties\": {\n        \"dtype\": \"number\",\n        \"std\": 80191.37252264912,\n        \"min\": 1.9795918367346939,\n        \"max\": 202980.0,\n        \"num_unique_values\": 6,\n        \"samples\": [\n          39.02040816326531,\n          1.9795918367346939,\n          202980.0\n        ],\n        \"semantic_type\": \"\",\n        \"description\": \"\"\n      }\n    },\n    {\n      \"column\": \"\\u0421\\u0442\\u0430\\u043d\\u0434\\u0430\\u0440\\u0442\\u043d\\u043e\\u0435 \\u043e\\u0442\\u043a\\u043b\\u043e\\u043d\\u0435\\u043d\\u0438\\u0435\",\n      \"properties\": {\n        \"dtype\": \"number\",\n        \"std\": 38557.67845391258,\n        \"min\": 0.9597752171143799,\n        \"max\": 97727.6106448579,\n        \"num_unique_values\": 6,\n        \"samples\": [\n          8.578335219263328,\n          0.9597752171143799,\n          97727.6106448579\n        ],\n        \"semantic_type\": \"\",\n        \"description\": \"\"\n      }\n    },\n    {\n      \"column\": \"\\u041c\\u0435\\u0434\\u0438\\u0430\\u043d\\u0430\",\n      \"properties\": {\n        \"dtype\": \"number\",\n        \"std\": 80121.7462164793,\n        \"min\": 2.0,\n        \"max\": 202490.0,\n        \"num_unique_values\": 6,\n        \"samples\": [\n          39.02040816326531,\n          2.0,\n          202490.0\n        ],\n        \"semantic_type\": \"\",\n        \"description\": \"\"\n      }\n    },\n    {\n      \"column\": \"1-\\u0439 \\u043a\\u0432\\u0430\\u0440\\u0442\\u0438\\u043b\\u044c\",\n      \"properties\": {\n        \"dtype\": \"number\",\n        \"std\": 50377.989934222496,\n        \"min\": 1.7346938775510203,\n        \"max\": 127500.0,\n        \"num_unique_values\": 6,\n        \"samples\": [\n          34.75,\n          1.7346938775510203,\n          127500.0\n        ],\n        \"semantic_type\": \"\",\n        \"description\": \"\"\n      }\n    },\n    {\n      \"column\": \"3-\\u0439 \\u043a\\u0432\\u0430\\u0440\\u0442\\u0438\\u043b\\u044c\",\n      \"properties\": {\n        \"dtype\": \"number\",\n        \"std\": 115715.09169468957,\n        \"min\": 2.25,\n        \"max\": 293000.0,\n        \"num_unique_values\": 6,\n        \"samples\": [\n          46.0,\n          2.25,\n          293000.0\n        ],\n        \"semantic_type\": \"\",\n        \"description\": \"\"\n      }\n    }\n  ]\n}"
            }
          },
          "metadata": {},
          "execution_count": 10
        }
      ],
      "source": [
        "df = data.copy()\n",
        "\n",
        "columns = df.columns\n",
        "for col in columns:\n",
        "    df.fillna({col : df[col].mean()}, inplace=True)\n",
        "\n",
        "pd.DataFrame(describe_info_data(dataset = df))"
      ]
    },
    {
      "cell_type": "markdown",
      "metadata": {
        "id": "Fl9pY4lu-inS"
      },
      "source": [
        "#### 2. Заполнение медианой."
      ]
    },
    {
      "cell_type": "code",
      "execution_count": 11,
      "metadata": {
        "colab": {
          "base_uri": "https://localhost:8080/",
          "height": 237
        },
        "id": "kuZtyqCG-inS",
        "outputId": "41b2607e-75d9-48d0-8889-4bf9671b150a"
      },
      "outputs": [
        {
          "output_type": "execute_result",
          "data": {
            "text/plain": [
              "                       Среднее  Стандартное отклонение   Медиана  \\\n",
              "Ages                 39.019231                8.578337      39.0   \n",
              "Count_dependent       1.980769                0.959787       2.0   \n",
              "Income            19025.000000             9883.039046   16700.0   \n",
              "Time_period_reg      10.173077                4.921825      11.0   \n",
              "Estimation        20846.153846            10503.752113   19000.0   \n",
              "Credit_size      202903.846154            97728.366969  201000.0   \n",
              "\n",
              "                 1-й квартиль  3-й квартиль  \n",
              "Ages                    34.75         46.00  \n",
              "Count_dependent          1.75          2.25  \n",
              "Income               12050.00      28700.00  \n",
              "Time_period_reg          6.00         14.00  \n",
              "Estimation           13000.00      30000.00  \n",
              "Credit_size         127500.00     293000.00  "
            ],
            "text/html": [
              "\n",
              "  <div id=\"df-62577ad7-58ec-4701-ba86-97906a65ee10\" class=\"colab-df-container\">\n",
              "    <div>\n",
              "<style scoped>\n",
              "    .dataframe tbody tr th:only-of-type {\n",
              "        vertical-align: middle;\n",
              "    }\n",
              "\n",
              "    .dataframe tbody tr th {\n",
              "        vertical-align: top;\n",
              "    }\n",
              "\n",
              "    .dataframe thead th {\n",
              "        text-align: right;\n",
              "    }\n",
              "</style>\n",
              "<table border=\"1\" class=\"dataframe\">\n",
              "  <thead>\n",
              "    <tr style=\"text-align: right;\">\n",
              "      <th></th>\n",
              "      <th>Среднее</th>\n",
              "      <th>Стандартное отклонение</th>\n",
              "      <th>Медиана</th>\n",
              "      <th>1-й квартиль</th>\n",
              "      <th>3-й квартиль</th>\n",
              "    </tr>\n",
              "  </thead>\n",
              "  <tbody>\n",
              "    <tr>\n",
              "      <th>Ages</th>\n",
              "      <td>39.019231</td>\n",
              "      <td>8.578337</td>\n",
              "      <td>39.0</td>\n",
              "      <td>34.75</td>\n",
              "      <td>46.00</td>\n",
              "    </tr>\n",
              "    <tr>\n",
              "      <th>Count_dependent</th>\n",
              "      <td>1.980769</td>\n",
              "      <td>0.959787</td>\n",
              "      <td>2.0</td>\n",
              "      <td>1.75</td>\n",
              "      <td>2.25</td>\n",
              "    </tr>\n",
              "    <tr>\n",
              "      <th>Income</th>\n",
              "      <td>19025.000000</td>\n",
              "      <td>9883.039046</td>\n",
              "      <td>16700.0</td>\n",
              "      <td>12050.00</td>\n",
              "      <td>28700.00</td>\n",
              "    </tr>\n",
              "    <tr>\n",
              "      <th>Time_period_reg</th>\n",
              "      <td>10.173077</td>\n",
              "      <td>4.921825</td>\n",
              "      <td>11.0</td>\n",
              "      <td>6.00</td>\n",
              "      <td>14.00</td>\n",
              "    </tr>\n",
              "    <tr>\n",
              "      <th>Estimation</th>\n",
              "      <td>20846.153846</td>\n",
              "      <td>10503.752113</td>\n",
              "      <td>19000.0</td>\n",
              "      <td>13000.00</td>\n",
              "      <td>30000.00</td>\n",
              "    </tr>\n",
              "    <tr>\n",
              "      <th>Credit_size</th>\n",
              "      <td>202903.846154</td>\n",
              "      <td>97728.366969</td>\n",
              "      <td>201000.0</td>\n",
              "      <td>127500.00</td>\n",
              "      <td>293000.00</td>\n",
              "    </tr>\n",
              "  </tbody>\n",
              "</table>\n",
              "</div>\n",
              "    <div class=\"colab-df-buttons\">\n",
              "\n",
              "  <div class=\"colab-df-container\">\n",
              "    <button class=\"colab-df-convert\" onclick=\"convertToInteractive('df-62577ad7-58ec-4701-ba86-97906a65ee10')\"\n",
              "            title=\"Convert this dataframe to an interactive table.\"\n",
              "            style=\"display:none;\">\n",
              "\n",
              "  <svg xmlns=\"http://www.w3.org/2000/svg\" height=\"24px\" viewBox=\"0 -960 960 960\">\n",
              "    <path d=\"M120-120v-720h720v720H120Zm60-500h600v-160H180v160Zm220 220h160v-160H400v160Zm0 220h160v-160H400v160ZM180-400h160v-160H180v160Zm440 0h160v-160H620v160ZM180-180h160v-160H180v160Zm440 0h160v-160H620v160Z\"/>\n",
              "  </svg>\n",
              "    </button>\n",
              "\n",
              "  <style>\n",
              "    .colab-df-container {\n",
              "      display:flex;\n",
              "      gap: 12px;\n",
              "    }\n",
              "\n",
              "    .colab-df-convert {\n",
              "      background-color: #E8F0FE;\n",
              "      border: none;\n",
              "      border-radius: 50%;\n",
              "      cursor: pointer;\n",
              "      display: none;\n",
              "      fill: #1967D2;\n",
              "      height: 32px;\n",
              "      padding: 0 0 0 0;\n",
              "      width: 32px;\n",
              "    }\n",
              "\n",
              "    .colab-df-convert:hover {\n",
              "      background-color: #E2EBFA;\n",
              "      box-shadow: 0px 1px 2px rgba(60, 64, 67, 0.3), 0px 1px 3px 1px rgba(60, 64, 67, 0.15);\n",
              "      fill: #174EA6;\n",
              "    }\n",
              "\n",
              "    .colab-df-buttons div {\n",
              "      margin-bottom: 4px;\n",
              "    }\n",
              "\n",
              "    [theme=dark] .colab-df-convert {\n",
              "      background-color: #3B4455;\n",
              "      fill: #D2E3FC;\n",
              "    }\n",
              "\n",
              "    [theme=dark] .colab-df-convert:hover {\n",
              "      background-color: #434B5C;\n",
              "      box-shadow: 0px 1px 3px 1px rgba(0, 0, 0, 0.15);\n",
              "      filter: drop-shadow(0px 1px 2px rgba(0, 0, 0, 0.3));\n",
              "      fill: #FFFFFF;\n",
              "    }\n",
              "  </style>\n",
              "\n",
              "    <script>\n",
              "      const buttonEl =\n",
              "        document.querySelector('#df-62577ad7-58ec-4701-ba86-97906a65ee10 button.colab-df-convert');\n",
              "      buttonEl.style.display =\n",
              "        google.colab.kernel.accessAllowed ? 'block' : 'none';\n",
              "\n",
              "      async function convertToInteractive(key) {\n",
              "        const element = document.querySelector('#df-62577ad7-58ec-4701-ba86-97906a65ee10');\n",
              "        const dataTable =\n",
              "          await google.colab.kernel.invokeFunction('convertToInteractive',\n",
              "                                                    [key], {});\n",
              "        if (!dataTable) return;\n",
              "\n",
              "        const docLinkHtml = 'Like what you see? Visit the ' +\n",
              "          '<a target=\"_blank\" href=https://colab.research.google.com/notebooks/data_table.ipynb>data table notebook</a>'\n",
              "          + ' to learn more about interactive tables.';\n",
              "        element.innerHTML = '';\n",
              "        dataTable['output_type'] = 'display_data';\n",
              "        await google.colab.output.renderOutput(dataTable, element);\n",
              "        const docLink = document.createElement('div');\n",
              "        docLink.innerHTML = docLinkHtml;\n",
              "        element.appendChild(docLink);\n",
              "      }\n",
              "    </script>\n",
              "  </div>\n",
              "\n",
              "\n",
              "<div id=\"df-09c3e8c5-8701-4b6d-b9d2-c6f029c624b6\">\n",
              "  <button class=\"colab-df-quickchart\" onclick=\"quickchart('df-09c3e8c5-8701-4b6d-b9d2-c6f029c624b6')\"\n",
              "            title=\"Suggest charts\"\n",
              "            style=\"display:none;\">\n",
              "\n",
              "<svg xmlns=\"http://www.w3.org/2000/svg\" height=\"24px\"viewBox=\"0 0 24 24\"\n",
              "     width=\"24px\">\n",
              "    <g>\n",
              "        <path d=\"M19 3H5c-1.1 0-2 .9-2 2v14c0 1.1.9 2 2 2h14c1.1 0 2-.9 2-2V5c0-1.1-.9-2-2-2zM9 17H7v-7h2v7zm4 0h-2V7h2v10zm4 0h-2v-4h2v4z\"/>\n",
              "    </g>\n",
              "</svg>\n",
              "  </button>\n",
              "\n",
              "<style>\n",
              "  .colab-df-quickchart {\n",
              "      --bg-color: #E8F0FE;\n",
              "      --fill-color: #1967D2;\n",
              "      --hover-bg-color: #E2EBFA;\n",
              "      --hover-fill-color: #174EA6;\n",
              "      --disabled-fill-color: #AAA;\n",
              "      --disabled-bg-color: #DDD;\n",
              "  }\n",
              "\n",
              "  [theme=dark] .colab-df-quickchart {\n",
              "      --bg-color: #3B4455;\n",
              "      --fill-color: #D2E3FC;\n",
              "      --hover-bg-color: #434B5C;\n",
              "      --hover-fill-color: #FFFFFF;\n",
              "      --disabled-bg-color: #3B4455;\n",
              "      --disabled-fill-color: #666;\n",
              "  }\n",
              "\n",
              "  .colab-df-quickchart {\n",
              "    background-color: var(--bg-color);\n",
              "    border: none;\n",
              "    border-radius: 50%;\n",
              "    cursor: pointer;\n",
              "    display: none;\n",
              "    fill: var(--fill-color);\n",
              "    height: 32px;\n",
              "    padding: 0;\n",
              "    width: 32px;\n",
              "  }\n",
              "\n",
              "  .colab-df-quickchart:hover {\n",
              "    background-color: var(--hover-bg-color);\n",
              "    box-shadow: 0 1px 2px rgba(60, 64, 67, 0.3), 0 1px 3px 1px rgba(60, 64, 67, 0.15);\n",
              "    fill: var(--button-hover-fill-color);\n",
              "  }\n",
              "\n",
              "  .colab-df-quickchart-complete:disabled,\n",
              "  .colab-df-quickchart-complete:disabled:hover {\n",
              "    background-color: var(--disabled-bg-color);\n",
              "    fill: var(--disabled-fill-color);\n",
              "    box-shadow: none;\n",
              "  }\n",
              "\n",
              "  .colab-df-spinner {\n",
              "    border: 2px solid var(--fill-color);\n",
              "    border-color: transparent;\n",
              "    border-bottom-color: var(--fill-color);\n",
              "    animation:\n",
              "      spin 1s steps(1) infinite;\n",
              "  }\n",
              "\n",
              "  @keyframes spin {\n",
              "    0% {\n",
              "      border-color: transparent;\n",
              "      border-bottom-color: var(--fill-color);\n",
              "      border-left-color: var(--fill-color);\n",
              "    }\n",
              "    20% {\n",
              "      border-color: transparent;\n",
              "      border-left-color: var(--fill-color);\n",
              "      border-top-color: var(--fill-color);\n",
              "    }\n",
              "    30% {\n",
              "      border-color: transparent;\n",
              "      border-left-color: var(--fill-color);\n",
              "      border-top-color: var(--fill-color);\n",
              "      border-right-color: var(--fill-color);\n",
              "    }\n",
              "    40% {\n",
              "      border-color: transparent;\n",
              "      border-right-color: var(--fill-color);\n",
              "      border-top-color: var(--fill-color);\n",
              "    }\n",
              "    60% {\n",
              "      border-color: transparent;\n",
              "      border-right-color: var(--fill-color);\n",
              "    }\n",
              "    80% {\n",
              "      border-color: transparent;\n",
              "      border-right-color: var(--fill-color);\n",
              "      border-bottom-color: var(--fill-color);\n",
              "    }\n",
              "    90% {\n",
              "      border-color: transparent;\n",
              "      border-bottom-color: var(--fill-color);\n",
              "    }\n",
              "  }\n",
              "</style>\n",
              "\n",
              "  <script>\n",
              "    async function quickchart(key) {\n",
              "      const quickchartButtonEl =\n",
              "        document.querySelector('#' + key + ' button');\n",
              "      quickchartButtonEl.disabled = true;  // To prevent multiple clicks.\n",
              "      quickchartButtonEl.classList.add('colab-df-spinner');\n",
              "      try {\n",
              "        const charts = await google.colab.kernel.invokeFunction(\n",
              "            'suggestCharts', [key], {});\n",
              "      } catch (error) {\n",
              "        console.error('Error during call to suggestCharts:', error);\n",
              "      }\n",
              "      quickchartButtonEl.classList.remove('colab-df-spinner');\n",
              "      quickchartButtonEl.classList.add('colab-df-quickchart-complete');\n",
              "    }\n",
              "    (() => {\n",
              "      let quickchartButtonEl =\n",
              "        document.querySelector('#df-09c3e8c5-8701-4b6d-b9d2-c6f029c624b6 button');\n",
              "      quickchartButtonEl.style.display =\n",
              "        google.colab.kernel.accessAllowed ? 'block' : 'none';\n",
              "    })();\n",
              "  </script>\n",
              "</div>\n",
              "    </div>\n",
              "  </div>\n"
            ],
            "application/vnd.google.colaboratory.intrinsic+json": {
              "type": "dataframe",
              "summary": "{\n  \"name\": \"pd\",\n  \"rows\": 6,\n  \"fields\": [\n    {\n      \"column\": \"\\u0421\\u0440\\u0435\\u0434\\u043d\\u0435\\u0435\",\n      \"properties\": {\n        \"dtype\": \"number\",\n        \"std\": 80173.63670673696,\n        \"min\": 1.9807692307692308,\n        \"max\": 202903.84615384616,\n        \"num_unique_values\": 6,\n        \"samples\": [\n          39.01923076923077,\n          1.9807692307692308,\n          202903.84615384616\n        ],\n        \"semantic_type\": \"\",\n        \"description\": \"\"\n      }\n    },\n    {\n      \"column\": \"\\u0421\\u0442\\u0430\\u043d\\u0434\\u0430\\u0440\\u0442\\u043d\\u043e\\u0435 \\u043e\\u0442\\u043a\\u043b\\u043e\\u043d\\u0435\\u043d\\u0438\\u0435\",\n      \"properties\": {\n        \"dtype\": \"number\",\n        \"std\": 38556.63185644259,\n        \"min\": 0.9597872438954865,\n        \"max\": 97728.3669688962,\n        \"num_unique_values\": 6,\n        \"samples\": [\n          8.578336564871488,\n          0.9597872438954865,\n          97728.3669688962\n        ],\n        \"semantic_type\": \"\",\n        \"description\": \"\"\n      }\n    },\n    {\n      \"column\": \"\\u041c\\u0435\\u0434\\u0438\\u0430\\u043d\\u0430\",\n      \"properties\": {\n        \"dtype\": \"number\",\n        \"std\": 79622.82762541574,\n        \"min\": 2.0,\n        \"max\": 201000.0,\n        \"num_unique_values\": 6,\n        \"samples\": [\n          39.0,\n          2.0,\n          201000.0\n        ],\n        \"semantic_type\": \"\",\n        \"description\": \"\"\n      }\n    },\n    {\n      \"column\": \"1-\\u0439 \\u043a\\u0432\\u0430\\u0440\\u0442\\u0438\\u043b\\u044c\",\n      \"properties\": {\n        \"dtype\": \"number\",\n        \"std\": 50377.9883889449,\n        \"min\": 1.75,\n        \"max\": 127500.0,\n        \"num_unique_values\": 6,\n        \"samples\": [\n          34.75,\n          1.75,\n          127500.0\n        ],\n        \"semantic_type\": \"\",\n        \"description\": \"\"\n      }\n    },\n    {\n      \"column\": \"3-\\u0439 \\u043a\\u0432\\u0430\\u0440\\u0442\\u0438\\u043b\\u044c\",\n      \"properties\": {\n        \"dtype\": \"number\",\n        \"std\": 115715.09169468957,\n        \"min\": 2.25,\n        \"max\": 293000.0,\n        \"num_unique_values\": 6,\n        \"samples\": [\n          46.0,\n          2.25,\n          293000.0\n        ],\n        \"semantic_type\": \"\",\n        \"description\": \"\"\n      }\n    }\n  ]\n}"
            }
          },
          "metadata": {},
          "execution_count": 11
        }
      ],
      "source": [
        "df = data.copy()\n",
        "\n",
        "columns = df.columns\n",
        "for col in columns:\n",
        "    df.fillna({col : df[col].median()}, inplace=True)\n",
        "\n",
        "pd.DataFrame(describe_info_data(dataset = df))"
      ]
    },
    {
      "cell_type": "markdown",
      "metadata": {
        "id": "lI73ZQnn-inS"
      },
      "source": [
        "#### 3. Заполнение KNNImputer"
      ]
    },
    {
      "cell_type": "code",
      "execution_count": 12,
      "metadata": {
        "colab": {
          "base_uri": "https://localhost:8080/",
          "height": 237
        },
        "id": "hShM49H0-inT",
        "outputId": "3d54619d-4568-459e-aed7-674cc6bef52b"
      },
      "outputs": [
        {
          "output_type": "execute_result",
          "data": {
            "text/plain": [
              "                       Среднее  Стандартное отклонение   Медиана  \\\n",
              "Ages                 38.971154                8.830880      39.5   \n",
              "Count_dependent       2.000000                0.970143       2.0   \n",
              "Income            19337.500000            10082.541089   16750.0   \n",
              "Time_period_reg      10.067308                5.021550      11.0   \n",
              "Estimation        20903.846154            10635.234845   18500.0   \n",
              "Credit_size      200971.153846            98269.557923  193000.0   \n",
              "\n",
              "                 1-й квартиль  3-й квартиль  \n",
              "Ages                    33.75          46.0  \n",
              "Count_dependent          1.75           3.0  \n",
              "Income               12050.00       28825.0  \n",
              "Time_period_reg          6.00          14.0  \n",
              "Estimation           13000.00       30000.0  \n",
              "Credit_size         127500.00      293000.0  "
            ],
            "text/html": [
              "\n",
              "  <div id=\"df-3e9ee3a6-0efb-408f-b133-b1a9ca53c6db\" class=\"colab-df-container\">\n",
              "    <div>\n",
              "<style scoped>\n",
              "    .dataframe tbody tr th:only-of-type {\n",
              "        vertical-align: middle;\n",
              "    }\n",
              "\n",
              "    .dataframe tbody tr th {\n",
              "        vertical-align: top;\n",
              "    }\n",
              "\n",
              "    .dataframe thead th {\n",
              "        text-align: right;\n",
              "    }\n",
              "</style>\n",
              "<table border=\"1\" class=\"dataframe\">\n",
              "  <thead>\n",
              "    <tr style=\"text-align: right;\">\n",
              "      <th></th>\n",
              "      <th>Среднее</th>\n",
              "      <th>Стандартное отклонение</th>\n",
              "      <th>Медиана</th>\n",
              "      <th>1-й квартиль</th>\n",
              "      <th>3-й квартиль</th>\n",
              "    </tr>\n",
              "  </thead>\n",
              "  <tbody>\n",
              "    <tr>\n",
              "      <th>Ages</th>\n",
              "      <td>38.971154</td>\n",
              "      <td>8.830880</td>\n",
              "      <td>39.5</td>\n",
              "      <td>33.75</td>\n",
              "      <td>46.0</td>\n",
              "    </tr>\n",
              "    <tr>\n",
              "      <th>Count_dependent</th>\n",
              "      <td>2.000000</td>\n",
              "      <td>0.970143</td>\n",
              "      <td>2.0</td>\n",
              "      <td>1.75</td>\n",
              "      <td>3.0</td>\n",
              "    </tr>\n",
              "    <tr>\n",
              "      <th>Income</th>\n",
              "      <td>19337.500000</td>\n",
              "      <td>10082.541089</td>\n",
              "      <td>16750.0</td>\n",
              "      <td>12050.00</td>\n",
              "      <td>28825.0</td>\n",
              "    </tr>\n",
              "    <tr>\n",
              "      <th>Time_period_reg</th>\n",
              "      <td>10.067308</td>\n",
              "      <td>5.021550</td>\n",
              "      <td>11.0</td>\n",
              "      <td>6.00</td>\n",
              "      <td>14.0</td>\n",
              "    </tr>\n",
              "    <tr>\n",
              "      <th>Estimation</th>\n",
              "      <td>20903.846154</td>\n",
              "      <td>10635.234845</td>\n",
              "      <td>18500.0</td>\n",
              "      <td>13000.00</td>\n",
              "      <td>30000.0</td>\n",
              "    </tr>\n",
              "    <tr>\n",
              "      <th>Credit_size</th>\n",
              "      <td>200971.153846</td>\n",
              "      <td>98269.557923</td>\n",
              "      <td>193000.0</td>\n",
              "      <td>127500.00</td>\n",
              "      <td>293000.0</td>\n",
              "    </tr>\n",
              "  </tbody>\n",
              "</table>\n",
              "</div>\n",
              "    <div class=\"colab-df-buttons\">\n",
              "\n",
              "  <div class=\"colab-df-container\">\n",
              "    <button class=\"colab-df-convert\" onclick=\"convertToInteractive('df-3e9ee3a6-0efb-408f-b133-b1a9ca53c6db')\"\n",
              "            title=\"Convert this dataframe to an interactive table.\"\n",
              "            style=\"display:none;\">\n",
              "\n",
              "  <svg xmlns=\"http://www.w3.org/2000/svg\" height=\"24px\" viewBox=\"0 -960 960 960\">\n",
              "    <path d=\"M120-120v-720h720v720H120Zm60-500h600v-160H180v160Zm220 220h160v-160H400v160Zm0 220h160v-160H400v160ZM180-400h160v-160H180v160Zm440 0h160v-160H620v160ZM180-180h160v-160H180v160Zm440 0h160v-160H620v160Z\"/>\n",
              "  </svg>\n",
              "    </button>\n",
              "\n",
              "  <style>\n",
              "    .colab-df-container {\n",
              "      display:flex;\n",
              "      gap: 12px;\n",
              "    }\n",
              "\n",
              "    .colab-df-convert {\n",
              "      background-color: #E8F0FE;\n",
              "      border: none;\n",
              "      border-radius: 50%;\n",
              "      cursor: pointer;\n",
              "      display: none;\n",
              "      fill: #1967D2;\n",
              "      height: 32px;\n",
              "      padding: 0 0 0 0;\n",
              "      width: 32px;\n",
              "    }\n",
              "\n",
              "    .colab-df-convert:hover {\n",
              "      background-color: #E2EBFA;\n",
              "      box-shadow: 0px 1px 2px rgba(60, 64, 67, 0.3), 0px 1px 3px 1px rgba(60, 64, 67, 0.15);\n",
              "      fill: #174EA6;\n",
              "    }\n",
              "\n",
              "    .colab-df-buttons div {\n",
              "      margin-bottom: 4px;\n",
              "    }\n",
              "\n",
              "    [theme=dark] .colab-df-convert {\n",
              "      background-color: #3B4455;\n",
              "      fill: #D2E3FC;\n",
              "    }\n",
              "\n",
              "    [theme=dark] .colab-df-convert:hover {\n",
              "      background-color: #434B5C;\n",
              "      box-shadow: 0px 1px 3px 1px rgba(0, 0, 0, 0.15);\n",
              "      filter: drop-shadow(0px 1px 2px rgba(0, 0, 0, 0.3));\n",
              "      fill: #FFFFFF;\n",
              "    }\n",
              "  </style>\n",
              "\n",
              "    <script>\n",
              "      const buttonEl =\n",
              "        document.querySelector('#df-3e9ee3a6-0efb-408f-b133-b1a9ca53c6db button.colab-df-convert');\n",
              "      buttonEl.style.display =\n",
              "        google.colab.kernel.accessAllowed ? 'block' : 'none';\n",
              "\n",
              "      async function convertToInteractive(key) {\n",
              "        const element = document.querySelector('#df-3e9ee3a6-0efb-408f-b133-b1a9ca53c6db');\n",
              "        const dataTable =\n",
              "          await google.colab.kernel.invokeFunction('convertToInteractive',\n",
              "                                                    [key], {});\n",
              "        if (!dataTable) return;\n",
              "\n",
              "        const docLinkHtml = 'Like what you see? Visit the ' +\n",
              "          '<a target=\"_blank\" href=https://colab.research.google.com/notebooks/data_table.ipynb>data table notebook</a>'\n",
              "          + ' to learn more about interactive tables.';\n",
              "        element.innerHTML = '';\n",
              "        dataTable['output_type'] = 'display_data';\n",
              "        await google.colab.output.renderOutput(dataTable, element);\n",
              "        const docLink = document.createElement('div');\n",
              "        docLink.innerHTML = docLinkHtml;\n",
              "        element.appendChild(docLink);\n",
              "      }\n",
              "    </script>\n",
              "  </div>\n",
              "\n",
              "\n",
              "<div id=\"df-c3c4b014-c2ad-4afb-b00b-b1743c559d30\">\n",
              "  <button class=\"colab-df-quickchart\" onclick=\"quickchart('df-c3c4b014-c2ad-4afb-b00b-b1743c559d30')\"\n",
              "            title=\"Suggest charts\"\n",
              "            style=\"display:none;\">\n",
              "\n",
              "<svg xmlns=\"http://www.w3.org/2000/svg\" height=\"24px\"viewBox=\"0 0 24 24\"\n",
              "     width=\"24px\">\n",
              "    <g>\n",
              "        <path d=\"M19 3H5c-1.1 0-2 .9-2 2v14c0 1.1.9 2 2 2h14c1.1 0 2-.9 2-2V5c0-1.1-.9-2-2-2zM9 17H7v-7h2v7zm4 0h-2V7h2v10zm4 0h-2v-4h2v4z\"/>\n",
              "    </g>\n",
              "</svg>\n",
              "  </button>\n",
              "\n",
              "<style>\n",
              "  .colab-df-quickchart {\n",
              "      --bg-color: #E8F0FE;\n",
              "      --fill-color: #1967D2;\n",
              "      --hover-bg-color: #E2EBFA;\n",
              "      --hover-fill-color: #174EA6;\n",
              "      --disabled-fill-color: #AAA;\n",
              "      --disabled-bg-color: #DDD;\n",
              "  }\n",
              "\n",
              "  [theme=dark] .colab-df-quickchart {\n",
              "      --bg-color: #3B4455;\n",
              "      --fill-color: #D2E3FC;\n",
              "      --hover-bg-color: #434B5C;\n",
              "      --hover-fill-color: #FFFFFF;\n",
              "      --disabled-bg-color: #3B4455;\n",
              "      --disabled-fill-color: #666;\n",
              "  }\n",
              "\n",
              "  .colab-df-quickchart {\n",
              "    background-color: var(--bg-color);\n",
              "    border: none;\n",
              "    border-radius: 50%;\n",
              "    cursor: pointer;\n",
              "    display: none;\n",
              "    fill: var(--fill-color);\n",
              "    height: 32px;\n",
              "    padding: 0;\n",
              "    width: 32px;\n",
              "  }\n",
              "\n",
              "  .colab-df-quickchart:hover {\n",
              "    background-color: var(--hover-bg-color);\n",
              "    box-shadow: 0 1px 2px rgba(60, 64, 67, 0.3), 0 1px 3px 1px rgba(60, 64, 67, 0.15);\n",
              "    fill: var(--button-hover-fill-color);\n",
              "  }\n",
              "\n",
              "  .colab-df-quickchart-complete:disabled,\n",
              "  .colab-df-quickchart-complete:disabled:hover {\n",
              "    background-color: var(--disabled-bg-color);\n",
              "    fill: var(--disabled-fill-color);\n",
              "    box-shadow: none;\n",
              "  }\n",
              "\n",
              "  .colab-df-spinner {\n",
              "    border: 2px solid var(--fill-color);\n",
              "    border-color: transparent;\n",
              "    border-bottom-color: var(--fill-color);\n",
              "    animation:\n",
              "      spin 1s steps(1) infinite;\n",
              "  }\n",
              "\n",
              "  @keyframes spin {\n",
              "    0% {\n",
              "      border-color: transparent;\n",
              "      border-bottom-color: var(--fill-color);\n",
              "      border-left-color: var(--fill-color);\n",
              "    }\n",
              "    20% {\n",
              "      border-color: transparent;\n",
              "      border-left-color: var(--fill-color);\n",
              "      border-top-color: var(--fill-color);\n",
              "    }\n",
              "    30% {\n",
              "      border-color: transparent;\n",
              "      border-left-color: var(--fill-color);\n",
              "      border-top-color: var(--fill-color);\n",
              "      border-right-color: var(--fill-color);\n",
              "    }\n",
              "    40% {\n",
              "      border-color: transparent;\n",
              "      border-right-color: var(--fill-color);\n",
              "      border-top-color: var(--fill-color);\n",
              "    }\n",
              "    60% {\n",
              "      border-color: transparent;\n",
              "      border-right-color: var(--fill-color);\n",
              "    }\n",
              "    80% {\n",
              "      border-color: transparent;\n",
              "      border-right-color: var(--fill-color);\n",
              "      border-bottom-color: var(--fill-color);\n",
              "    }\n",
              "    90% {\n",
              "      border-color: transparent;\n",
              "      border-bottom-color: var(--fill-color);\n",
              "    }\n",
              "  }\n",
              "</style>\n",
              "\n",
              "  <script>\n",
              "    async function quickchart(key) {\n",
              "      const quickchartButtonEl =\n",
              "        document.querySelector('#' + key + ' button');\n",
              "      quickchartButtonEl.disabled = true;  // To prevent multiple clicks.\n",
              "      quickchartButtonEl.classList.add('colab-df-spinner');\n",
              "      try {\n",
              "        const charts = await google.colab.kernel.invokeFunction(\n",
              "            'suggestCharts', [key], {});\n",
              "      } catch (error) {\n",
              "        console.error('Error during call to suggestCharts:', error);\n",
              "      }\n",
              "      quickchartButtonEl.classList.remove('colab-df-spinner');\n",
              "      quickchartButtonEl.classList.add('colab-df-quickchart-complete');\n",
              "    }\n",
              "    (() => {\n",
              "      let quickchartButtonEl =\n",
              "        document.querySelector('#df-c3c4b014-c2ad-4afb-b00b-b1743c559d30 button');\n",
              "      quickchartButtonEl.style.display =\n",
              "        google.colab.kernel.accessAllowed ? 'block' : 'none';\n",
              "    })();\n",
              "  </script>\n",
              "</div>\n",
              "    </div>\n",
              "  </div>\n"
            ],
            "application/vnd.google.colaboratory.intrinsic+json": {
              "type": "dataframe",
              "summary": "{\n  \"name\": \"pd\",\n  \"rows\": 6,\n  \"fields\": [\n    {\n      \"column\": \"\\u0421\\u0440\\u0435\\u0434\\u043d\\u0435\\u0435\",\n      \"properties\": {\n        \"dtype\": \"number\",\n        \"std\": 79371.23764622284,\n        \"min\": 2.0,\n        \"max\": 200971.15384615384,\n        \"num_unique_values\": 6,\n        \"samples\": [\n          38.97115384615385,\n          2.0,\n          200971.15384615384\n        ],\n        \"semantic_type\": \"\",\n        \"description\": \"\"\n      }\n    },\n    {\n      \"column\": \"\\u0421\\u0442\\u0430\\u043d\\u0434\\u0430\\u0440\\u0442\\u043d\\u043e\\u0435 \\u043e\\u0442\\u043a\\u043b\\u043e\\u043d\\u0435\\u043d\\u0438\\u0435\",\n      \"properties\": {\n        \"dtype\": \"number\",\n        \"std\": 38759.30795993629,\n        \"min\": 0.9701425001453319,\n        \"max\": 98269.55792273012,\n        \"num_unique_values\": 6,\n        \"samples\": [\n          8.83088023366626,\n          0.9701425001453319,\n          98269.55792273012\n        ],\n        \"semantic_type\": \"\",\n        \"description\": \"\"\n      }\n    },\n    {\n      \"column\": \"\\u041c\\u0435\\u0434\\u0438\\u0430\\u043d\\u0430\",\n      \"properties\": {\n        \"dtype\": \"number\",\n        \"std\": 76400.01169398907,\n        \"min\": 2.0,\n        \"max\": 193000.0,\n        \"num_unique_values\": 6,\n        \"samples\": [\n          39.5,\n          2.0,\n          193000.0\n        ],\n        \"semantic_type\": \"\",\n        \"description\": \"\"\n      }\n    },\n    {\n      \"column\": \"1-\\u0439 \\u043a\\u0432\\u0430\\u0440\\u0442\\u0438\\u043b\\u044c\",\n      \"properties\": {\n        \"dtype\": \"number\",\n        \"std\": 50378.08921760199,\n        \"min\": 1.75,\n        \"max\": 127500.0,\n        \"num_unique_values\": 6,\n        \"samples\": [\n          33.75,\n          1.75,\n          127500.0\n        ],\n        \"semantic_type\": \"\",\n        \"description\": \"\"\n      }\n    },\n    {\n      \"column\": \"3-\\u0439 \\u043a\\u0432\\u0430\\u0440\\u0442\\u0438\\u043b\\u044c\",\n      \"properties\": {\n        \"dtype\": \"number\",\n        \"std\": 115708.56106788295,\n        \"min\": 3.0,\n        \"max\": 293000.0,\n        \"num_unique_values\": 6,\n        \"samples\": [\n          46.0,\n          3.0,\n          293000.0\n        ],\n        \"semantic_type\": \"\",\n        \"description\": \"\"\n      }\n    }\n  ]\n}"
            }
          },
          "metadata": {},
          "execution_count": 12
        }
      ],
      "source": [
        "from sklearn.impute import KNNImputer\n",
        "\n",
        "df = data.copy()\n",
        "imputer = KNNImputer(n_neighbors=2)\n",
        "\n",
        "df_imputed = imputer.fit_transform(df)\n",
        "\n",
        "df_filled = pd.DataFrame(df_imputed, columns=df.columns)\n",
        "\n",
        "pd.DataFrame(describe_info_data(dataset = df_filled))"
      ]
    },
    {
      "cell_type": "markdown",
      "metadata": {
        "id": "3CAY_80Z-inT"
      },
      "source": [
        "**Комментарий:** Так как KNNImputer в процессе заполнения пропусков использует информацию о других колонках, а в нашем случае данных очень мало, то мы выберем именно этот метод в пользу метода заполнения mean и median."
      ]
    },
    {
      "cell_type": "code",
      "execution_count": 13,
      "metadata": {
        "id": "kUWXW4JU-inT"
      },
      "outputs": [],
      "source": [
        "df_filled = df_filled.copy()"
      ]
    },
    {
      "cell_type": "markdown",
      "metadata": {
        "id": "5uc1Y4iB-inT"
      },
      "source": [
        "### 3. В данных возможны выбросы. Подберите из литературы метод определения выбросов и удалите объекты, идентифицированные как выбросы по этому методу."
      ]
    },
    {
      "cell_type": "markdown",
      "metadata": {
        "id": "rYs8MkOZ-inT"
      },
      "source": [
        "В качестве проверки данных на выбросы мы выбрали 2 способа - с помщью iqr-перцентиля или с помощью Z-оценки."
      ]
    },
    {
      "cell_type": "markdown",
      "metadata": {
        "id": "-rhIUvgH-inT"
      },
      "source": [
        "1. Проверим с помощью iqr-перцентиля."
      ]
    },
    {
      "cell_type": "code",
      "execution_count": 14,
      "metadata": {
        "id": "95kRkwzy-inT"
      },
      "outputs": [],
      "source": [
        "def clean_by_iqr(dataset):\n",
        "    for column in dataset.columns:\n",
        "        Q1 = dataset[column].quantile(0.25)\n",
        "        Q3 = dataset[column].quantile(0.75)\n",
        "        IQR = Q3 - Q1\n",
        "\n",
        "        lower_bound = Q1 - 1.5 * IQR\n",
        "        upper_bound = Q3 + 1.5 * IQR\n",
        "\n",
        "        dataset = dataset[(dataset[column] >= lower_bound) & (dataset[column] <= upper_bound)]\n",
        "    return dataset"
      ]
    },
    {
      "cell_type": "code",
      "execution_count": 15,
      "metadata": {
        "colab": {
          "base_uri": "https://localhost:8080/"
        },
        "id": "94YCui2--inT",
        "outputId": "8a194c5e-7ea4-4b54-aa07-21fcd2d5683c"
      },
      "outputs": [
        {
          "output_type": "stream",
          "name": "stdout",
          "text": [
            "B данных нет выбросов!\n"
          ]
        }
      ],
      "source": [
        "data = clean_by_iqr(df_filled)\n",
        "\n",
        "if df_filled.shape[0] != data.shape[0]:\n",
        "    print(\"Исходные данные:\")\n",
        "    print(df_filled)\n",
        "    print(\"\\n Данные без выбросов (метод iqr):\")\n",
        "    print(data)\n",
        "else:\n",
        "    print('B данных нет выбросов!')"
      ]
    },
    {
      "cell_type": "markdown",
      "metadata": {
        "id": "7FwGZQ1r-inU"
      },
      "source": [
        "2. Теперь проверим с помощью Z-оценки."
      ]
    },
    {
      "cell_type": "code",
      "execution_count": 16,
      "metadata": {
        "id": "-sbHHtiC-inU"
      },
      "outputs": [],
      "source": [
        "def clean_by_zscore(df):\n",
        "    df_filtered = df.copy()\n",
        "    for column in df_filtered.select_dtypes(include=['float64', 'int64']):\n",
        "        mean = df_filtered[column].mean()\n",
        "        std = df_filtered[column].std()\n",
        "        z_scores = (df_filtered[column] - mean) / std\n",
        "\n",
        "        df_filtered = df_filtered[abs(z_scores) < 3]\n",
        "    return df_filtered"
      ]
    },
    {
      "cell_type": "code",
      "execution_count": 17,
      "metadata": {
        "colab": {
          "base_uri": "https://localhost:8080/"
        },
        "id": "qCakVwOQ-inU",
        "outputId": "28cac7f3-b017-486f-8ebb-2ed2598e36aa"
      },
      "outputs": [
        {
          "output_type": "stream",
          "name": "stdout",
          "text": [
            "B данных нет выбросов!\n"
          ]
        }
      ],
      "source": [
        "data = clean_by_zscore(df_filled)\n",
        "\n",
        "if df_filled.shape[0] != data.shape[0]:\n",
        "    print(\"Исходные данные:\")\n",
        "    print(df_filled)\n",
        "    print(\"\\n Данные без выбросов (метод Z-оценки):\")\n",
        "    print(data)\n",
        "else:\n",
        "    print('B данных нет выбросов!')"
      ]
    },
    {
      "cell_type": "markdown",
      "metadata": {
        "id": "EUulhQRS-inU"
      },
      "source": [
        "**Вывод:** При использовании обоих методов было установлено, что в данных не было выбросов. (В качетсве теста, мы искусственно добавили выбросы и заметили, что медоты их находят, так что делаем вывод, что метод работает корректно, и данные у нас не содержат выбросов.)"
      ]
    },
    {
      "cell_type": "markdown",
      "metadata": {
        "id": "IX-SHJXC-inU"
      },
      "source": [
        "# Снижение размерности. Метод PCA (Principal Component Analysis=метод главных компонент)."
      ]
    },
    {
      "cell_type": "markdown",
      "metadata": {
        "id": "QVMBJW4u-inU"
      },
      "source": [
        "### 4. Выполнить центрирование данных и такую нормировку, что евклидова норма каждого признака равна 1 (полученная матрица обозначается через Z)."
      ]
    },
    {
      "cell_type": "code",
      "execution_count": 18,
      "metadata": {
        "colab": {
          "base_uri": "https://localhost:8080/"
        },
        "id": "cHD9dmt7-inU",
        "outputId": "371cf02c-aea4-4808-e903-5f77af60e302"
      },
      "outputs": [
        {
          "output_type": "stream",
          "name": "stdout",
          "text": [
            "n = 52\n",
            "m = 6\n",
            "p = min(n, m) = 6\n"
          ]
        }
      ],
      "source": [
        "n = data.shape[0]\n",
        "m = data.shape[1]\n",
        "p = min(n, m)\n",
        "\n",
        "print(f\"n = {n}\")\n",
        "print(f\"m = {m}\")\n",
        "print(f\"p = min(n, m) = {min(n, m)}\")"
      ]
    },
    {
      "cell_type": "markdown",
      "metadata": {
        "id": "E18G3CdC-inV"
      },
      "source": [
        "Для начала выполним центрирование данных и вычислим норму по каждому признаку, а также получим нумерованные данные."
      ]
    },
    {
      "cell_type": "code",
      "execution_count": 19,
      "metadata": {
        "id": "Rp-Vxa8d-inV"
      },
      "outputs": [],
      "source": [
        "Y_data_centr = data.copy()\n",
        "for column in Y_data_centr.columns:\n",
        "    data_center_mean_column = Y_data_centr[column].mean()\n",
        "    Y_data_centr[column] = Y_data_centr[column] - data_center_mean_column"
      ]
    },
    {
      "cell_type": "code",
      "execution_count": 20,
      "metadata": {
        "colab": {
          "base_uri": "https://localhost:8080/"
        },
        "id": "f8EFTEJU-inV",
        "outputId": "bbb01f29-59ac-429d-a1ba-4292ec3c1584"
      },
      "outputs": [
        {
          "output_type": "stream",
          "name": "stdout",
          "text": [
            "Ages : 63.0651\n",
            "Count_dependent : 6.9282\n",
            "Income : 72003.7456\n",
            "Time_period_reg : 35.861\n",
            "Estimation : 75950.7685\n",
            "Credit_size : 701785.0146\n"
          ]
        }
      ],
      "source": [
        "list_norms = []\n",
        "for column in Y_data_centr.columns:\n",
        "    curr_norm = round(math.sqrt(sum(Y_data_centr[column].values ** 2)), 4)\n",
        "    list_norms.append(curr_norm)\n",
        "    print(f\"{column} : {curr_norm}\")"
      ]
    },
    {
      "cell_type": "code",
      "execution_count": 21,
      "metadata": {
        "id": "JwY9858b-inV"
      },
      "outputs": [],
      "source": [
        "Z_data_norm = Y_data_centr.copy()\n",
        "for i, column in enumerate(Y_data_centr):\n",
        "    Z_data_norm[column] = Y_data_centr[column]/list_norms[i]"
      ]
    },
    {
      "cell_type": "code",
      "execution_count": 22,
      "metadata": {
        "colab": {
          "base_uri": "https://localhost:8080/"
        },
        "id": "ZdWda6rP-inV",
        "outputId": "f1a33593-483e-4e05-dd96-e0ff6556187b"
      },
      "outputs": [
        {
          "output_type": "stream",
          "name": "stdout",
          "text": [
            "Проверка после нормировки:\n",
            "1.0\n",
            "1.0\n",
            "1.0\n",
            "1.0\n",
            "1.0\n",
            "1.0\n"
          ]
        }
      ],
      "source": [
        "print('Проверка после нормировки:')\n",
        "for column in Z_data_norm.columns:\n",
        "    curr_norm = round(math.sqrt(sum(Z_data_norm[column].values ** 2)), 2)\n",
        "    print(curr_norm)"
      ]
    },
    {
      "cell_type": "code",
      "execution_count": 23,
      "metadata": {
        "colab": {
          "base_uri": "https://localhost:8080/",
          "height": 206
        },
        "id": "P9uXZIVYN2Kg",
        "outputId": "8aa7621b-f429-4fa9-e97a-0811d7ce6546"
      },
      "outputs": [
        {
          "output_type": "execute_result",
          "data": {
            "text/plain": [
              "       Ages  Count_dependent    Income  Time_period_reg  Estimation  \\\n",
              "0  0.032171         0.000000 -0.103293         0.026009   -0.117232   \n",
              "1 -0.126396        -0.144338 -0.014409        -0.169190    0.014432   \n",
              "2 -0.173966        -0.144338  0.157804        -0.224960    0.119764   \n",
              "3  0.087669         0.000000 -0.093572         0.081779   -0.104065   \n",
              "4 -0.221535        -0.144338  0.174470        -0.280731    0.119764   \n",
              "\n",
              "   Credit_size  \n",
              "0    -0.116804  \n",
              "1     0.028540  \n",
              "2     0.141110  \n",
              "3    -0.103979  \n",
              "4     0.153934  "
            ],
            "text/html": [
              "\n",
              "  <div id=\"df-fb6dbdf8-0bff-4537-aeff-f6622235fe43\" class=\"colab-df-container\">\n",
              "    <div>\n",
              "<style scoped>\n",
              "    .dataframe tbody tr th:only-of-type {\n",
              "        vertical-align: middle;\n",
              "    }\n",
              "\n",
              "    .dataframe tbody tr th {\n",
              "        vertical-align: top;\n",
              "    }\n",
              "\n",
              "    .dataframe thead th {\n",
              "        text-align: right;\n",
              "    }\n",
              "</style>\n",
              "<table border=\"1\" class=\"dataframe\">\n",
              "  <thead>\n",
              "    <tr style=\"text-align: right;\">\n",
              "      <th></th>\n",
              "      <th>Ages</th>\n",
              "      <th>Count_dependent</th>\n",
              "      <th>Income</th>\n",
              "      <th>Time_period_reg</th>\n",
              "      <th>Estimation</th>\n",
              "      <th>Credit_size</th>\n",
              "    </tr>\n",
              "  </thead>\n",
              "  <tbody>\n",
              "    <tr>\n",
              "      <th>0</th>\n",
              "      <td>0.032171</td>\n",
              "      <td>0.000000</td>\n",
              "      <td>-0.103293</td>\n",
              "      <td>0.026009</td>\n",
              "      <td>-0.117232</td>\n",
              "      <td>-0.116804</td>\n",
              "    </tr>\n",
              "    <tr>\n",
              "      <th>1</th>\n",
              "      <td>-0.126396</td>\n",
              "      <td>-0.144338</td>\n",
              "      <td>-0.014409</td>\n",
              "      <td>-0.169190</td>\n",
              "      <td>0.014432</td>\n",
              "      <td>0.028540</td>\n",
              "    </tr>\n",
              "    <tr>\n",
              "      <th>2</th>\n",
              "      <td>-0.173966</td>\n",
              "      <td>-0.144338</td>\n",
              "      <td>0.157804</td>\n",
              "      <td>-0.224960</td>\n",
              "      <td>0.119764</td>\n",
              "      <td>0.141110</td>\n",
              "    </tr>\n",
              "    <tr>\n",
              "      <th>3</th>\n",
              "      <td>0.087669</td>\n",
              "      <td>0.000000</td>\n",
              "      <td>-0.093572</td>\n",
              "      <td>0.081779</td>\n",
              "      <td>-0.104065</td>\n",
              "      <td>-0.103979</td>\n",
              "    </tr>\n",
              "    <tr>\n",
              "      <th>4</th>\n",
              "      <td>-0.221535</td>\n",
              "      <td>-0.144338</td>\n",
              "      <td>0.174470</td>\n",
              "      <td>-0.280731</td>\n",
              "      <td>0.119764</td>\n",
              "      <td>0.153934</td>\n",
              "    </tr>\n",
              "  </tbody>\n",
              "</table>\n",
              "</div>\n",
              "    <div class=\"colab-df-buttons\">\n",
              "\n",
              "  <div class=\"colab-df-container\">\n",
              "    <button class=\"colab-df-convert\" onclick=\"convertToInteractive('df-fb6dbdf8-0bff-4537-aeff-f6622235fe43')\"\n",
              "            title=\"Convert this dataframe to an interactive table.\"\n",
              "            style=\"display:none;\">\n",
              "\n",
              "  <svg xmlns=\"http://www.w3.org/2000/svg\" height=\"24px\" viewBox=\"0 -960 960 960\">\n",
              "    <path d=\"M120-120v-720h720v720H120Zm60-500h600v-160H180v160Zm220 220h160v-160H400v160Zm0 220h160v-160H400v160ZM180-400h160v-160H180v160Zm440 0h160v-160H620v160ZM180-180h160v-160H180v160Zm440 0h160v-160H620v160Z\"/>\n",
              "  </svg>\n",
              "    </button>\n",
              "\n",
              "  <style>\n",
              "    .colab-df-container {\n",
              "      display:flex;\n",
              "      gap: 12px;\n",
              "    }\n",
              "\n",
              "    .colab-df-convert {\n",
              "      background-color: #E8F0FE;\n",
              "      border: none;\n",
              "      border-radius: 50%;\n",
              "      cursor: pointer;\n",
              "      display: none;\n",
              "      fill: #1967D2;\n",
              "      height: 32px;\n",
              "      padding: 0 0 0 0;\n",
              "      width: 32px;\n",
              "    }\n",
              "\n",
              "    .colab-df-convert:hover {\n",
              "      background-color: #E2EBFA;\n",
              "      box-shadow: 0px 1px 2px rgba(60, 64, 67, 0.3), 0px 1px 3px 1px rgba(60, 64, 67, 0.15);\n",
              "      fill: #174EA6;\n",
              "    }\n",
              "\n",
              "    .colab-df-buttons div {\n",
              "      margin-bottom: 4px;\n",
              "    }\n",
              "\n",
              "    [theme=dark] .colab-df-convert {\n",
              "      background-color: #3B4455;\n",
              "      fill: #D2E3FC;\n",
              "    }\n",
              "\n",
              "    [theme=dark] .colab-df-convert:hover {\n",
              "      background-color: #434B5C;\n",
              "      box-shadow: 0px 1px 3px 1px rgba(0, 0, 0, 0.15);\n",
              "      filter: drop-shadow(0px 1px 2px rgba(0, 0, 0, 0.3));\n",
              "      fill: #FFFFFF;\n",
              "    }\n",
              "  </style>\n",
              "\n",
              "    <script>\n",
              "      const buttonEl =\n",
              "        document.querySelector('#df-fb6dbdf8-0bff-4537-aeff-f6622235fe43 button.colab-df-convert');\n",
              "      buttonEl.style.display =\n",
              "        google.colab.kernel.accessAllowed ? 'block' : 'none';\n",
              "\n",
              "      async function convertToInteractive(key) {\n",
              "        const element = document.querySelector('#df-fb6dbdf8-0bff-4537-aeff-f6622235fe43');\n",
              "        const dataTable =\n",
              "          await google.colab.kernel.invokeFunction('convertToInteractive',\n",
              "                                                    [key], {});\n",
              "        if (!dataTable) return;\n",
              "\n",
              "        const docLinkHtml = 'Like what you see? Visit the ' +\n",
              "          '<a target=\"_blank\" href=https://colab.research.google.com/notebooks/data_table.ipynb>data table notebook</a>'\n",
              "          + ' to learn more about interactive tables.';\n",
              "        element.innerHTML = '';\n",
              "        dataTable['output_type'] = 'display_data';\n",
              "        await google.colab.output.renderOutput(dataTable, element);\n",
              "        const docLink = document.createElement('div');\n",
              "        docLink.innerHTML = docLinkHtml;\n",
              "        element.appendChild(docLink);\n",
              "      }\n",
              "    </script>\n",
              "  </div>\n",
              "\n",
              "\n",
              "<div id=\"df-a0172c10-2f7f-4da6-b688-2236529b0e39\">\n",
              "  <button class=\"colab-df-quickchart\" onclick=\"quickchart('df-a0172c10-2f7f-4da6-b688-2236529b0e39')\"\n",
              "            title=\"Suggest charts\"\n",
              "            style=\"display:none;\">\n",
              "\n",
              "<svg xmlns=\"http://www.w3.org/2000/svg\" height=\"24px\"viewBox=\"0 0 24 24\"\n",
              "     width=\"24px\">\n",
              "    <g>\n",
              "        <path d=\"M19 3H5c-1.1 0-2 .9-2 2v14c0 1.1.9 2 2 2h14c1.1 0 2-.9 2-2V5c0-1.1-.9-2-2-2zM9 17H7v-7h2v7zm4 0h-2V7h2v10zm4 0h-2v-4h2v4z\"/>\n",
              "    </g>\n",
              "</svg>\n",
              "  </button>\n",
              "\n",
              "<style>\n",
              "  .colab-df-quickchart {\n",
              "      --bg-color: #E8F0FE;\n",
              "      --fill-color: #1967D2;\n",
              "      --hover-bg-color: #E2EBFA;\n",
              "      --hover-fill-color: #174EA6;\n",
              "      --disabled-fill-color: #AAA;\n",
              "      --disabled-bg-color: #DDD;\n",
              "  }\n",
              "\n",
              "  [theme=dark] .colab-df-quickchart {\n",
              "      --bg-color: #3B4455;\n",
              "      --fill-color: #D2E3FC;\n",
              "      --hover-bg-color: #434B5C;\n",
              "      --hover-fill-color: #FFFFFF;\n",
              "      --disabled-bg-color: #3B4455;\n",
              "      --disabled-fill-color: #666;\n",
              "  }\n",
              "\n",
              "  .colab-df-quickchart {\n",
              "    background-color: var(--bg-color);\n",
              "    border: none;\n",
              "    border-radius: 50%;\n",
              "    cursor: pointer;\n",
              "    display: none;\n",
              "    fill: var(--fill-color);\n",
              "    height: 32px;\n",
              "    padding: 0;\n",
              "    width: 32px;\n",
              "  }\n",
              "\n",
              "  .colab-df-quickchart:hover {\n",
              "    background-color: var(--hover-bg-color);\n",
              "    box-shadow: 0 1px 2px rgba(60, 64, 67, 0.3), 0 1px 3px 1px rgba(60, 64, 67, 0.15);\n",
              "    fill: var(--button-hover-fill-color);\n",
              "  }\n",
              "\n",
              "  .colab-df-quickchart-complete:disabled,\n",
              "  .colab-df-quickchart-complete:disabled:hover {\n",
              "    background-color: var(--disabled-bg-color);\n",
              "    fill: var(--disabled-fill-color);\n",
              "    box-shadow: none;\n",
              "  }\n",
              "\n",
              "  .colab-df-spinner {\n",
              "    border: 2px solid var(--fill-color);\n",
              "    border-color: transparent;\n",
              "    border-bottom-color: var(--fill-color);\n",
              "    animation:\n",
              "      spin 1s steps(1) infinite;\n",
              "  }\n",
              "\n",
              "  @keyframes spin {\n",
              "    0% {\n",
              "      border-color: transparent;\n",
              "      border-bottom-color: var(--fill-color);\n",
              "      border-left-color: var(--fill-color);\n",
              "    }\n",
              "    20% {\n",
              "      border-color: transparent;\n",
              "      border-left-color: var(--fill-color);\n",
              "      border-top-color: var(--fill-color);\n",
              "    }\n",
              "    30% {\n",
              "      border-color: transparent;\n",
              "      border-left-color: var(--fill-color);\n",
              "      border-top-color: var(--fill-color);\n",
              "      border-right-color: var(--fill-color);\n",
              "    }\n",
              "    40% {\n",
              "      border-color: transparent;\n",
              "      border-right-color: var(--fill-color);\n",
              "      border-top-color: var(--fill-color);\n",
              "    }\n",
              "    60% {\n",
              "      border-color: transparent;\n",
              "      border-right-color: var(--fill-color);\n",
              "    }\n",
              "    80% {\n",
              "      border-color: transparent;\n",
              "      border-right-color: var(--fill-color);\n",
              "      border-bottom-color: var(--fill-color);\n",
              "    }\n",
              "    90% {\n",
              "      border-color: transparent;\n",
              "      border-bottom-color: var(--fill-color);\n",
              "    }\n",
              "  }\n",
              "</style>\n",
              "\n",
              "  <script>\n",
              "    async function quickchart(key) {\n",
              "      const quickchartButtonEl =\n",
              "        document.querySelector('#' + key + ' button');\n",
              "      quickchartButtonEl.disabled = true;  // To prevent multiple clicks.\n",
              "      quickchartButtonEl.classList.add('colab-df-spinner');\n",
              "      try {\n",
              "        const charts = await google.colab.kernel.invokeFunction(\n",
              "            'suggestCharts', [key], {});\n",
              "      } catch (error) {\n",
              "        console.error('Error during call to suggestCharts:', error);\n",
              "      }\n",
              "      quickchartButtonEl.classList.remove('colab-df-spinner');\n",
              "      quickchartButtonEl.classList.add('colab-df-quickchart-complete');\n",
              "    }\n",
              "    (() => {\n",
              "      let quickchartButtonEl =\n",
              "        document.querySelector('#df-a0172c10-2f7f-4da6-b688-2236529b0e39 button');\n",
              "      quickchartButtonEl.style.display =\n",
              "        google.colab.kernel.accessAllowed ? 'block' : 'none';\n",
              "    })();\n",
              "  </script>\n",
              "</div>\n",
              "    </div>\n",
              "  </div>\n"
            ],
            "application/vnd.google.colaboratory.intrinsic+json": {
              "type": "dataframe",
              "variable_name": "Z_data_norm",
              "summary": "{\n  \"name\": \"Z_data_norm\",\n  \"rows\": 52,\n  \"fields\": [\n    {\n      \"column\": \"Ages\",\n      \"properties\": {\n        \"dtype\": \"number\",\n        \"std\": 0.14002800651495456,\n        \"min\": -0.31667521095112583,\n        \"max\": 0.2700201245038247,\n        \"num_unique_values\": 28,\n        \"samples\": [\n          -0.28496194957518256,\n          -0.15810890407140948,\n          0.20659360175193814\n        ],\n        \"semantic_type\": \"\",\n        \"description\": \"\"\n      }\n    },\n    {\n      \"column\": \"Count_dependent\",\n      \"properties\": {\n        \"dtype\": \"number\",\n        \"std\": 0.14002807369090553,\n        \"min\": -0.2886752691896885,\n        \"max\": 0.2886752691896885,\n        \"num_unique_values\": 5,\n        \"samples\": [\n          -0.14433763459484425,\n          0.2886752691896885,\n          0.14433763459484425\n        ],\n        \"semantic_type\": \"\",\n        \"description\": \"\"\n      }\n    },\n    {\n      \"column\": \"Income\",\n      \"properties\": {\n        \"dtype\": \"number\",\n        \"std\": 0.14002800832947868,\n        \"min\": -0.24773016808170048,\n        \"max\": 0.33279518725481416,\n        \"num_unique_values\": 48,\n        \"samples\": [\n          -0.035241222228861384,\n          -0.24773016808170048,\n          0.08558582541294908\n        ],\n        \"semantic_type\": \"\",\n        \"description\": \"\"\n      }\n    },\n    {\n      \"column\": \"Time_period_reg\",\n      \"properties\": {\n        \"dtype\": \"number\",\n        \"std\": 0.14002817728832495,\n        \"min\": -0.2807313709129052,\n        \"max\": 0.2490921142102091,\n        \"num_unique_values\": 19,\n        \"samples\": [\n          0.026008541526792574,\n          -0.0018769050586344952,\n          -0.14130413798576982\n        ],\n        \"semantic_type\": \"\",\n        \"description\": \"\"\n      }\n    },\n    {\n      \"column\": \"Estimation\",\n      \"properties\": {\n        \"dtype\": \"number\",\n        \"std\": 0.14002800834246226,\n        \"min\": -0.27522889585832366,\n        \"max\": 0.3830922901873448,\n        \"num_unique_values\": 28,\n        \"samples\": [\n          -0.09089896376553651,\n          0.05393169716451055,\n          0.3567594427455181\n        ],\n        \"semantic_type\": \"\",\n        \"description\": \"\"\n      }\n    },\n    {\n      \"column\": \"Credit_size\",\n      \"properties\": {\n        \"dtype\": \"number\",\n        \"std\": 0.14002800840474103,\n        \"min\": -0.2806716440909222,\n        \"max\": 0.33632642653160205,\n        \"num_unique_values\": 50,\n        \"samples\": [\n          -0.18947562441461377,\n          0.1867079567501585,\n          0.13256032006735038\n        ],\n        \"semantic_type\": \"\",\n        \"description\": \"\"\n      }\n    }\n  ]\n}"
            }
          },
          "metadata": {},
          "execution_count": 23
        }
      ],
      "source": [
        "Z_data_norm.head()"
      ]
    },
    {
      "cell_type": "markdown",
      "metadata": {
        "id": "ETyN3sH1-inV"
      },
      "source": [
        "### 5. Найти SVD разложение матрицы Z (матрицы U, S, V)."
      ]
    },
    {
      "cell_type": "code",
      "execution_count": 24,
      "metadata": {
        "colab": {
          "base_uri": "https://localhost:8080/"
        },
        "id": "Jjy_K450-inV",
        "outputId": "a85a215c-c240-41c9-9234-3f630c1450a4"
      },
      "outputs": [
        {
          "output_type": "stream",
          "name": "stdout",
          "text": [
            "Матрица U:\n",
            "[[-0.10722507 -0.04119176 -0.01601878 ...  0.01817744 -0.04889071\n",
            "  -0.20838495]\n",
            " [ 0.08093536 -0.13880048 -0.02035747 ... -0.13791534 -0.03516773\n",
            "   0.20855362]\n",
            " [ 0.21300131 -0.10009263 -0.06482267 ...  0.02614149 -0.02511858\n",
            "   0.06061368]\n",
            " ...\n",
            " [-0.06820236 -0.12987906 -0.05486714 ...  0.95687258 -0.02410208\n",
            "   0.04554197]\n",
            " [-0.06160123  0.0314681  -0.02380387 ... -0.02844577  0.96178205\n",
            "   0.00667313]\n",
            " [-0.11024292  0.2648494   0.05052781 ...  0.03724915  0.00533497\n",
            "   0.9117178 ]]\n",
            "\n",
            " Диагональная матрица Sigma:\n",
            "[[1.72279665 0.         0.         0.         0.         0.        ]\n",
            " [0.         1.53213367 0.         0.         0.         0.        ]\n",
            " [0.         0.         0.7341492  0.         0.         0.        ]\n",
            " [0.         0.         0.         0.32981843 0.         0.        ]\n",
            " [0.         0.         0.         0.         0.16628796 0.        ]\n",
            " [0.         0.         0.         0.         0.         0.09557478]]\n",
            "\n",
            " Матрица V^T:\n",
            "[[-0.35888056 -0.06788953  0.47367826 -0.4138615   0.4679677   0.50194576]\n",
            " [ 0.45902058  0.62369105  0.28490072  0.42725821  0.19570091  0.31351674]\n",
            " [-0.40346344  0.20386341 -0.50619829  0.28835096  0.65679316 -0.15778694]\n",
            " [ 0.52478722 -0.66119193  0.08252635  0.1892753   0.48656756 -0.08966539]\n",
            " [-0.42869964 -0.33433318  0.19936093  0.719464   -0.25243382  0.28868994]\n",
            " [ 0.19630869 -0.12604267 -0.62583416 -0.09782237 -0.10420798  0.73039662]]\n"
          ]
        }
      ],
      "source": [
        "matrix = Z_data_norm.values\n",
        "\n",
        "U, S, Vt = np.linalg.svd(matrix)\n",
        "\n",
        "Sigma = np.diag(S)\n",
        "\n",
        "print(\"Матрица U:\")\n",
        "print(U)\n",
        "print(\"\\n Диагональная матрица Sigma:\")\n",
        "print(Sigma)\n",
        "print(\"\\n Матрица V^T:\")\n",
        "print(Vt)"
      ]
    },
    {
      "cell_type": "markdown",
      "metadata": {
        "id": "l4udpie_-inV"
      },
      "source": [
        "### 6. Исследуйте, сколько скрытых факторов (главные факторы) достаточно для хорошей аппроксимации матрицы данных Z."
      ]
    },
    {
      "cell_type": "code",
      "execution_count": 25,
      "metadata": {
        "colab": {
          "base_uri": "https://localhost:8080/"
        },
        "id": "8S0Fqmqo-inZ",
        "outputId": "3ac874bd-cb34-4a37-fe2f-c4ec63e6c6c7"
      },
      "outputs": [
        {
          "output_type": "stream",
          "name": "stdout",
          "text": [
            "Сингулярные числа                           : [1.72279665 1.53213367 0.7341492  0.32981843 0.16628796 0.09557478]\n",
            "Квадраты сингулярных чисел                  : [2.96802828 2.34743357 0.53897504 0.1087802  0.02765168 0.00913454]\n",
            "Вклад главных факторов в вариацию данных    : [0.49467111 0.39123871 0.08982912 0.01813002 0.00460861 0.00152242]\n",
            "Вклад главных факторов в вариацию данных, % : [49.46711073 39.1238712   8.9829124   1.8130023   0.46086115  0.15224223]\n"
          ]
        }
      ],
      "source": [
        "print(f\"Сингулярные числа                           : {S}\")\n",
        "print(f\"Квадраты сингулярных чисел                  : {S ** 2}\")\n",
        "print(f\"Вклад главных факторов в вариацию данных    : {S ** 2 / sum (S ** 2)}\")\n",
        "print(f\"Вклад главных факторов в вариацию данных, % : {S ** 2 / sum (S ** 2) * 100}\")"
      ]
    },
    {
      "cell_type": "code",
      "execution_count": 26,
      "metadata": {
        "colab": {
          "base_uri": "https://localhost:8080/"
        },
        "id": "kTEprIm7-ina",
        "outputId": "392816c6-e4f4-4595-ba2c-e14958deef01"
      },
      "outputs": [
        {
          "output_type": "stream",
          "name": "stdout",
          "text": [
            "Два главных фактора вносят : 88.590981922183 %\n",
            "Ошибка апроксимации в норме Фробениуса : 11.409018077816988 %\n"
          ]
        }
      ],
      "source": [
        "print(f\"Два главных фактора вносят : {sum(S[:2] ** 2 / sum (S ** 2) * 100)} %\")\n",
        "\n",
        "print(f\"Ошибка апроксимации в норме Фробениуса : {sum(S[2:] ** 2 / sum (S ** 2) * 100)} %\")"
      ]
    },
    {
      "cell_type": "markdown",
      "metadata": {
        "id": "RLG0cZAO-ina"
      },
      "source": [
        "**Комментарий:** Так как 2 первых фактора вносят около 90% в вариацию данных, будем считать их главными."
      ]
    },
    {
      "cell_type": "markdown",
      "metadata": {
        "id": "wE0nHLUb-ina"
      },
      "source": [
        "### 7. Замените значения исходных признаков линейными комбинациями главных факторов (матрица Zk, k – число главных факторов). Вычислите погрешность аппроксимации в операторной матричной  норме и норме Фробениуса."
      ]
    },
    {
      "cell_type": "markdown",
      "metadata": {
        "id": "VQxjfng2-ina"
      },
      "source": [
        "Главные факторы."
      ]
    },
    {
      "cell_type": "code",
      "execution_count": 27,
      "metadata": {
        "id": "nHfjADIx-ina"
      },
      "outputs": [],
      "source": [
        "U1 = U[0]\n",
        "U2 = U[1]"
      ]
    },
    {
      "cell_type": "code",
      "execution_count": 28,
      "metadata": {
        "colab": {
          "base_uri": "https://localhost:8080/"
        },
        "id": "PUCYQlPZ-ina",
        "outputId": "9fe02bde-1860-43bb-eef7-b6c91fa3af68"
      },
      "outputs": [
        {
          "output_type": "execute_result",
          "data": {
            "text/plain": [
              "array([-0.10722507, -0.04119176, -0.01601878, -0.10092469, -0.11906326,\n",
              "       -0.04897743, -0.07812487, -0.06470409, -0.20782695,  0.14334259,\n",
              "        0.41264701, -0.17532927, -0.07653475, -0.0032477 ,  0.01681746,\n",
              "        0.14665225, -0.01243785, -0.08914369, -0.13492062,  0.11942622,\n",
              "        0.06783255, -0.17517939, -0.0878659 , -0.06470409, -0.02771108,\n",
              "       -0.0007353 ,  0.05740168, -0.08490543, -0.19722015, -0.15589202,\n",
              "        0.04001008,  0.048109  ,  0.20769544,  0.018062  ,  0.07409451,\n",
              "       -0.1220866 , -0.07357287, -0.06227918, -0.09488114, -0.10810782,\n",
              "        0.07448673,  0.03976458,  0.49838507,  0.05789739,  0.14775882,\n",
              "        0.13474504, -0.12054919, -0.18215769,  0.06616332,  0.01817744,\n",
              "       -0.04889071, -0.20838495])"
            ]
          },
          "metadata": {},
          "execution_count": 28
        }
      ],
      "source": [
        "U1"
      ]
    },
    {
      "cell_type": "code",
      "execution_count": 29,
      "metadata": {
        "colab": {
          "base_uri": "https://localhost:8080/"
        },
        "id": "u1vpuKNa-inb",
        "outputId": "6b28d887-09e5-44e6-b3de-ff02585792a1"
      },
      "outputs": [
        {
          "output_type": "execute_result",
          "data": {
            "text/plain": [
              "array([ 0.08093536, -0.13880048, -0.02035747,  0.00107588, -0.10559896,\n",
              "        0.40062592,  0.10418962,  0.11145802,  0.03362445, -0.15034903,\n",
              "        0.15399156,  0.06926619, -0.04357436, -0.11750666, -0.20969258,\n",
              "       -0.07229187,  0.10815229, -0.07084911,  0.10375804,  0.09555077,\n",
              "        0.0759179 ,  0.21152037, -0.04971695,  0.11145802, -0.17966833,\n",
              "       -0.14496223, -0.27289286,  0.22098633,  0.16203145,  0.05203541,\n",
              "        0.02232916,  0.04417029, -0.17305625, -0.06717005,  0.05370063,\n",
              "        0.10996644, -0.08508543, -0.0182556 , -0.0729095 , -0.05769433,\n",
              "        0.05047311,  0.02004727,  0.27528055, -0.22228228,  0.29256781,\n",
              "       -0.02564018, -0.08532631, -0.00698074,  0.02318733, -0.13791534,\n",
              "       -0.03516773,  0.20855362])"
            ]
          },
          "metadata": {},
          "execution_count": 29
        }
      ],
      "source": [
        "U2"
      ]
    },
    {
      "cell_type": "markdown",
      "metadata": {
        "id": "QT9LTUBF-inb"
      },
      "source": [
        "У нас есть Vt, получим V"
      ]
    },
    {
      "cell_type": "code",
      "execution_count": 30,
      "metadata": {
        "id": "tOrX7y5C-inb"
      },
      "outputs": [],
      "source": [
        "V = Vt.T"
      ]
    },
    {
      "cell_type": "markdown",
      "metadata": {
        "id": "8JEWZJc--inb"
      },
      "source": [
        "Вычислим апроксимацию стобцов матрицы Z"
      ]
    },
    {
      "cell_type": "code",
      "execution_count": 31,
      "metadata": {
        "id": "3FNATCcq-inb"
      },
      "outputs": [],
      "source": [
        "U0 = []\n",
        "for i in range(len(U)):\n",
        "    U0.append(float(U[i][0]))\n",
        "U0 = np.array(U0)\n",
        "\n",
        "U1 = []\n",
        "for i in range(len(U)):\n",
        "    U1.append(float(U[i][1]))\n",
        "U1 = np.array(U1)"
      ]
    },
    {
      "cell_type": "code",
      "execution_count": 32,
      "metadata": {
        "id": "IE-e_QW5-inb"
      },
      "outputs": [],
      "source": [
        "new_df = pd.DataFrame(columns=[])\n",
        "new_df_columns = ['Ages', 'Count_dependent', 'Income', 'Time_period_reg', 'Estimation', 'Credit_size']\n",
        "\n",
        "for j in range(len(new_df_columns)):\n",
        "    z_j = S[0] * V[j][0] * U0 + S[1] * V[j][1] * U1\n",
        "    new_df[new_df_columns[j]] = z_j"
      ]
    },
    {
      "cell_type": "code",
      "execution_count": 33,
      "metadata": {
        "id": "ByzGsyO3-inc"
      },
      "outputs": [],
      "source": [
        "Z_Z_2 = Z_data_norm - new_df\n",
        "\n",
        "Z_Z_2_list = []\n",
        "for column in Z_Z_2.columns:\n",
        "    Z_Z_2_list.append(sum(Z_Z_2[column] ** 2))"
      ]
    },
    {
      "cell_type": "code",
      "execution_count": 34,
      "metadata": {
        "colab": {
          "base_uri": "https://localhost:8080/"
        },
        "id": "3xJFD8pH-inc",
        "outputId": "afa711cb-f1d6-4625-b5e3-caa1744a2887"
      },
      "outputs": [
        {
          "output_type": "stream",
          "name": "stdout",
          "text": [
            "Квадраты евклидовой нормы ошибки : [0.1231, 0.0732, 0.1435, 0.0631, 0.2601, 0.0215]\n",
            "Сумма    : [0.684541]\n",
            "Проверка : [0.684541]\n"
          ]
        }
      ],
      "source": [
        "print(f'Квадраты евклидовой нормы ошибки : {[round(el, 4) for el in Z_Z_2_list]}')\n",
        "\n",
        "print(f'Сумма    : {[round(sum(Z_Z_2_list), 6)]}')\n",
        "\n",
        "print(f'Проверка : {[round(float(sum(S[2:] ** 2)), 6)]}')"
      ]
    },
    {
      "cell_type": "markdown",
      "metadata": {
        "id": "Pc4g5rJn-inc"
      },
      "source": [
        "**Комментарий:** Действительно, получается, что сумма квадратов норм ошибок совпадает с суммой квадратов сингулярных значений неиспользующихся признаков."
      ]
    },
    {
      "cell_type": "markdown",
      "metadata": {
        "id": "YNEi_UBG-inc"
      },
      "source": [
        "### 8. Используя выделенные главные факторы, найти представления клиентов векторами меньшей размерности (размерности k) и построить карту клиентов. Сделать выводы о клиентах банка."
      ]
    },
    {
      "cell_type": "code",
      "execution_count": 35,
      "metadata": {
        "id": "8DIclbXf-inc"
      },
      "outputs": [],
      "source": [
        "k = 2"
      ]
    },
    {
      "cell_type": "code",
      "execution_count": 46,
      "metadata": {
        "id": "cBwXed0F-ind"
      },
      "outputs": [],
      "source": [
        "pca_df = pd.DataFrame()\n",
        "pca_df['PC1'] = U1\n",
        "pca_df['PC2'] = U2"
      ]
    },
    {
      "cell_type": "code",
      "execution_count": 47,
      "metadata": {
        "colab": {
          "base_uri": "https://localhost:8080/",
          "height": 564
        },
        "id": "-voXsWgW-ind",
        "outputId": "5316c57e-861f-4434-98a6-d9c9d154d708"
      },
      "outputs": [
        {
          "output_type": "display_data",
          "data": {
            "text/plain": [
              "<Figure size 1000x600 with 1 Axes>"
            ],
            "image/png": "[encoded data removed]"
          },
          "metadata": {}
        }
      ],
      "source": [
        "plt.figure(figsize=(10, 6))\n",
        "plt.scatter(pca_df['PC1'], pca_df['PC2'])\n",
        "plt.title('Карта клиентов банка')\n",
        "plt.xlabel('Материальная компонента U1')\n",
        "plt.ylabel('Информационная компонента U2')\n",
        "plt.grid()\n",
        "plt.show()"
      ]
    },
    {
      "cell_type": "markdown",
      "metadata": {
        "id": "ag9Ljcf_-ind"
      },
      "source": [
        "**Комментарий:** По карте клиентов что соответствующие точки располагаются примерно вдоль прямой y = a * x, где a - небольшой понижающий коэффициент, что говорит о наличии прямой пропорциональной зависимости между U1 и U2. Однако стоит также отметить, что существует и небольшое количество выбросов."
      ]
    },
    {
      "cell_type": "markdown",
      "metadata": {
        "id": "AkPGo8bM-ind"
      },
      "source": [
        "# Снижение размерности. Метод MDS (Multidimensional Scaling = многомерное шкалирование)\n",
        "\n",
        "### 9. Вычислите расстояние между клиентами любым понравившемся вам способом. Проверьте, можно ли клиентов банка поместить в евклидово пространство размерности 2 с сохранением расстояний между клиентами."
      ]
    },
    {
      "cell_type": "code",
      "execution_count": 40,
      "metadata": {
        "id": "Y_CWiHsG-ind"
      },
      "outputs": [],
      "source": [
        "from sklearn.metrics.pairwise import euclidean_distances\n",
        "from sklearn.metrics import pairwise_distances\n",
        "from sklearn.manifold import MDS"
      ]
    },
    {
      "cell_type": "markdown",
      "metadata": {
        "id": "I4KSox8s-ine"
      },
      "source": [
        "Выполним проверку на возможность размещения клиентов в евклидовом пространсве размерности 2 с сохранением расстояний (проверка на неотрицательность расстояний, проверка на симметричность расстояний (A -> B == B -> A) и проверку выполнения неравенства треугольника для любых 3 точек из пространства)."
      ]
    },
    {
      "cell_type": "code",
      "execution_count": 41,
      "metadata": {
        "colab": {
          "base_uri": "https://localhost:8080/"
        },
        "id": "dR4JqNnT-ine",
        "outputId": "faafb98a-3ee9-40a9-9f6f-406543afaeee"
      },
      "outputs": [
        {
          "output_type": "stream",
          "name": "stdout",
          "text": [
            "Клиентов МОЖНО разместить в евклидово пространство размерности 2 с сохранением расстояний.\n"
          ]
        }
      ],
      "source": [
        "distances = pairwise_distances(Z_data_norm, metric='euclidean')\n",
        "\n",
        "def check_metric_conditions(distances):\n",
        "    if np.any(distances < 0):\n",
        "        return False\n",
        "\n",
        "    if not np.allclose(distances, distances.T):\n",
        "        return False\n",
        "\n",
        "    n = distances.shape[0]\n",
        "    for i in range(n):\n",
        "        for j in range(n):\n",
        "            for k in range(n):\n",
        "                if distances[i, k] > distances[i, j] + distances[j, k]:\n",
        "                    return False\n",
        "\n",
        "    return True\n",
        "\n",
        "if check_metric_conditions(distances):\n",
        "    print(\"Клиентов МОЖНО разместить в евклидово пространство размерности 2 с сохранением расстояний.\")\n",
        "else:\n",
        "    print(\"Клиентов НЕЛЬЗЯ разместить в евклидово пространство размерности 2 с сохранением расстояний.\")"
      ]
    },
    {
      "cell_type": "markdown",
      "source": [
        "Также проверим через матрицу Грама:"
      ],
      "metadata": {
        "id": "TPbq4FR38Gpp"
      }
    },
    {
      "cell_type": "code",
      "source": [
        "n = distances.shape[0]\n",
        "centr = np.eye(n) - 1 / n * np.ones((n, n))\n",
        "mtrx = np.dot(np.dot(- 0.5 * centr, (distances ** 2)), centr)\n",
        "\n",
        "values = np.linalg.eigvalsh(mtrx)\n",
        "np.around(values, 2)"
      ],
      "metadata": {
        "colab": {
          "base_uri": "https://localhost:8080/"
        },
        "id": "ZEHu_QmM4nTr",
        "outputId": "89b4eba6-f1a5-48ba-bcf7-29f4dac31366"
      },
      "execution_count": 72,
      "outputs": [
        {
          "output_type": "execute_result",
          "data": {
            "text/plain": [
              "array([-0.  , -0.  , -0.  , -0.  , -0.  , -0.  , -0.  , -0.  , -0.  ,\n",
              "       -0.  , -0.  , -0.  , -0.  , -0.  , -0.  , -0.  , -0.  , -0.  ,\n",
              "       -0.  , -0.  , -0.  , -0.  , -0.  ,  0.  ,  0.  ,  0.  ,  0.  ,\n",
              "        0.  ,  0.  ,  0.  ,  0.  ,  0.  ,  0.  ,  0.  ,  0.  ,  0.  ,\n",
              "        0.  ,  0.  ,  0.  ,  0.  ,  0.  ,  0.  ,  0.  ,  0.  ,  0.  ,\n",
              "        0.  ,  0.01,  0.03,  0.11,  0.54,  2.35,  2.97])"
            ]
          },
          "metadata": {},
          "execution_count": 72
        }
      ]
    },
    {
      "cell_type": "markdown",
      "source": [
        "**Комментарий:** Так как матрица является неотрицательно определённой, мы можем поместить векторы, соответствующие клиентам банка, в евклидово пространство размерности 2, при этом расстояния между клиентами будут сохранены.\n"
      ],
      "metadata": {
        "id": "OOxZriKU7qoM"
      }
    },
    {
      "cell_type": "markdown",
      "metadata": {
        "id": "WhjlryB3-ine"
      },
      "source": [
        "### 10. Используйте любой из алгоритмов MDS для размещения объектов в евклидовом пространстве размерности 2. Оцените погрешность такого размещения. Постройте карту клиентов. Сравните с картой клиентов из п.8 и сделайте выводы."
      ]
    },
    {
      "cell_type": "code",
      "execution_count": 52,
      "metadata": {
        "colab": {
          "base_uri": "https://localhost:8080/"
        },
        "id": "H-Qk6jrY-ine",
        "outputId": "60d43c55-456b-4177-d1a0-fb11932a1813"
      },
      "outputs": [
        {
          "output_type": "stream",
          "name": "stdout",
          "text": [
            "Погрешность размещения (stress) при n=2 : 0.29131\n"
          ]
        }
      ],
      "source": [
        "mds = MDS(n_components=2, metric=False, random_state=42)\n",
        "X_mds = mds.fit_transform(Z_data_norm)\n",
        "\n",
        "stress = mds.stress_\n",
        "print(f'Погрешность размещения (stress) при n=2 : {round(stress, 5)}')"
      ]
    },
    {
      "cell_type": "markdown",
      "metadata": {
        "id": "DU3H9oMS-ine"
      },
      "source": [
        "**Комментарий:** Погрешность размещения можно оценить с помощью финального значения `stress` функции (что позволяет оценить сумму квадратов разницы изначальных и полученных расстояний), которое в данном случае равно 0.29131.\n",
        "\n",
        "*Значение 0 указывает на «идеальную» подгонку, 0,025 — на отличную, 0,05 — на хорошую, 0,1 — на удовлетворительную, 0,2 — на плохую*\n",
        "\n",
        "Такое высокое значение стресса может указывать на то, что данные плохо укладываются в выбранное пространство (в данном случае, в 2D), и существует значительное искажение при визуализации. В качестве решения стоит рассмотреть использование более высокой размерности (например, 3D) или другие методы снижения размерности, которые могут лучше захватывать сложные взаимосвязи в данных.\n",
        "\n",
        "В качестве проверки этого факта посчитаем `stress` для пространства 3D."
      ]
    },
    {
      "cell_type": "code",
      "execution_count": 54,
      "metadata": {
        "colab": {
          "base_uri": "https://localhost:8080/"
        },
        "id": "fy8cUkFF-ine",
        "outputId": "f11c123d-e1ec-4bbb-ad35-c94b2a78ed87"
      },
      "outputs": [
        {
          "output_type": "stream",
          "name": "stdout",
          "text": [
            "Погрешность размещения (stress) при n=3 : 0.23704\n"
          ]
        }
      ],
      "source": [
        "mds_3 = MDS(n_components=3,  metric=False, random_state=42)\n",
        "X_mds_3 = mds_3.fit_transform(Z_data_norm)\n",
        "\n",
        "stress_3 = mds_3.stress_\n",
        "print(f'Погрешность размещения (stress) при n=3 : {round(stress_3, 5)}')"
      ]
    },
    {
      "cell_type": "markdown",
      "metadata": {
        "id": "StPdTcuK-inf"
      },
      "source": [
        "**Комментарий:** Отметим, что при размерности пространства n = 3 значение погрешности размещения `stress` = 0.23704, что немного ниже, чем при n = 2."
      ]
    },
    {
      "cell_type": "code",
      "execution_count": 56,
      "metadata": {
        "colab": {
          "base_uri": "https://localhost:8080/",
          "height": 570
        },
        "id": "bzmByqU--inf",
        "outputId": "5e6069fa-35ca-4dd5-bdd0-08e582ad9411",
        "collapsed": true
      },
      "outputs": [
        {
          "output_type": "display_data",
          "data": {
            "text/plain": [
              "<Figure size 2000x1000 with 2 Axes>"
            ],
            "image/png": "[encoded data removed]"
          },
          "metadata": {}
        }
      ],
      "source": [
        "fig, axs = plt.subplots(1, 2, figsize=(20, 10))\n",
        "\n",
        "axs[0].scatter(X_mds[:, 0], X_mds[:, 1], marker='o')\n",
        "axs[0].set_title('Карта клиентов после MDS')\n",
        "axs[0].set_xlabel('Компонента 1')\n",
        "axs[0].set_ylabel('Компонента 2')\n",
        "axs[0].grid(axis='y', alpha=0.75)\n",
        "\n",
        "axs[1].scatter(pca_df['PC1'], pca_df['PC2'])\n",
        "axs[1].set_title('Карта клиентов банка')\n",
        "axs[1].set_xlabel('Материальная компонента U1')\n",
        "axs[1].set_ylabel('Информационная компонента U2')\n",
        "axs[1].grid(axis='y', alpha=0.75)\n",
        "\n",
        "plt.tight_layout()\n",
        "plt.show()"
      ]
    },
    {
      "cell_type": "code",
      "source": [
        "from sklearn.cluster import KMeans\n",
        "df_mds = pd.DataFrame(X_mds, columns=['K1', 'K2'])\n",
        "kmeans = KMeans(n_clusters=4)  # Предположим, мы хотим выделить 3 группы\n",
        "\n",
        "df_mds['Cluster'] = kmeans.fit_predict(df_mds)\n",
        "\n",
        "# Визуализация с выделением кластеров\n",
        "plt.figure(figsize=(10, 6))\n",
        "plt.scatter(df_mds['K1'], df_mds['K2'], c=df_mds['Cluster'], cmap='viridis')\n",
        "plt.title('Карта клиентов банка с кластерами')\n",
        "plt.xlabel('Главная компонента 1')\n",
        "plt.ylabel('Главная компонента 2')\n",
        "plt.colorbar(label='Кластер')\n",
        "plt.grid()\n",
        "plt.show()"
      ],
      "metadata": {
        "colab": {
          "base_uri": "https://localhost:8080/",
          "height": 564
        },
        "id": "UdBvdKSk0Eo6",
        "outputId": "20fff2a5-baa8-4581-bfdc-1594f584fe0a"
      },
      "execution_count": 69,
      "outputs": [
        {
          "output_type": "display_data",
          "data": {
            "text/plain": [
              "<Figure size 1000x600 with 2 Axes>"
            ],
            "image/png": "[encoded data removed]"
          },
          "metadata": {}
        }
      ]
    },
    {
      "cell_type": "markdown",
      "metadata": {
        "id": "VSHqFhaC-inf"
      },
      "source": [
        "**Комментарий:** На графике клиентов после MDS можно выделить, что данные стали более разреженными. Условно можно увидеть 4 кластера.  \n",
        "\n",
        "MDS позволяет оценить расстояния между объектами и визуализировать объекты в пространстве меньшей размерности, это полезно для извлечения локальной информации об объектах. Однако стоит отметить, что из-за высого значения переменной `stress` на графике присутствует большое искажение, так что объективного сравнения не получится.\n",
        "\n",
        "**Вывод**: На примере данных о клиентах банка было выполнено снижение размерности с помощью PCA и MDS. Карты клиентов сильно различаются."
      ]
    },
    {
      "cell_type": "markdown",
      "metadata": {
        "id": "oXJB_G6j-inf"
      },
      "source": [
        "# Бонус. Снижение размерности. Интерпретация скрытых факторов.\n",
        "\n",
        "1. Выписать матрицу коэффициентов разложения признаков zj по главным факторам. Исследовать структуру этой матрицы с целью выделения групп признаков тесно связанных с каждым из главных факторов.\n",
        "2. На основе анализа структуры матрицы коэффициентов разложения, предложить интерпретацию выделенным главным факторам. Дать интерпретацию построенной выше карте клиентов."
      ]
    },
    {
      "cell_type": "code",
      "execution_count": 45,
      "metadata": {
        "colab": {
          "base_uri": "https://localhost:8080/"
        },
        "id": "V05nCqlM-inf",
        "outputId": "3fd9fcce-fcbc-4390-c1ed-06dccb3ae218"
      },
      "outputs": [
        {
          "output_type": "stream",
          "name": "stdout",
          "text": [
            "z0 = (-0.618278221122634 * U0) + (0.7032808792891287 * U1)\n",
            "z1 = (-0.11695986271323955 * U0) + (0.9555780550445897 * U1)\n",
            "z2 = (0.8160513232171889 * U0) + (0.4365059768918449 * U1)\n",
            "z3 = (-0.7129992050619219 * U0) + (0.6546166832363074 * U1)\n",
            "z4 = (0.8062131817689862 * U0) + (0.2998399528014941 * U1)\n",
            "z5 = (0.8647504799420707 * U0) + (0.4803495472098178 * U1)\n"
          ]
        }
      ],
      "source": [
        "new_df = pd.DataFrame(columns=[])\n",
        "new_df_columns = ['Ages', 'Count_dependent', 'Income', 'Time_period_reg', 'Estimation', 'Credit_size']\n",
        "\n",
        "for j in range(len(new_df_columns)):\n",
        "    z_j = S[0] * V[j][0] * U0 + S[1] * V[j][1] * U1\n",
        "    print(f\"z{j} = ({S[0] * V[j][0]} * U0) + ({S[1] * V[j][1]} * U1)\")\n",
        "    new_df[new_df_columns[j]] = z_j"
      ]
    },
    {
      "cell_type": "markdown",
      "metadata": {
        "id": "1cSISMju-inf"
      },
      "source": [
        "**Главный фактор U0:**\n",
        "\n",
        "Возраст и срок проживания имеют отрицательные значения, что может указывать на то, что с увеличением возраста или срока проживания вероятность получения кредита снижается.\n",
        "\n",
        "Доход, оценка автомобиля и размер кредита имеют положительные значения, что говорит о том, что с увеличением этих показателей вероятность получения кредита возрастает.\n",
        "\n",
        "**Главный фактор U1:**\n",
        "\n",
        "Все признаки имеют положительные значения, что указывает на то, что увеличение любого из этих факторов связано с увеличением вероятности получения кредита.\n",
        "\n",
        "Особенно сильное влияние оказывают количество иждивенцев и возраст, что может говорить о том, что более зрелые заемщики с большим количеством иждивенцев более вероятно получают кредиты.\n",
        "\n",
        "### Вывод:\n",
        "\n",
        "**Фактор U0:** В основном определяет финансовую состоятельность заемщика (доход, стоимость автомобиля, размер кредита). Чем выше эти показатели, тем выше вероятность получения кредита.\n",
        "\n",
        "**Фактор U1:** Описывает социальные аспекты заемщика (возраст, количество иждивенцев, срок проживания). Более зрелые заемщики с иждивенцами имеют большую вероятность получения кредита."
      ]
    }
  ],
  "metadata": {
    "colab": {
      "provenance": []
    },
    "kernelspec": {
      "display_name": "kalyagin",
      "language": "python",
      "name": "python3"
    },
    "language_info": {
      "codemirror_mode": {
        "name": "ipython",
        "version": 3
      },
      "file_extension": ".py",
      "mimetype": "text/x-python",
      "name": "python",
      "nbconvert_exporter": "python",
      "pygments_lexer": "ipython3",
      "version": "3.10.5"
    }
  },
  "nbformat": 4,
  "nbformat_minor": 0
}